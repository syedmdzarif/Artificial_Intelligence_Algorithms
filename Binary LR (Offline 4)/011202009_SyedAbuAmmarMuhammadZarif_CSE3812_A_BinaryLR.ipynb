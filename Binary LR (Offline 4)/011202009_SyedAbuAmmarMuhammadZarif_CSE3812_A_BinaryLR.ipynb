{
  "nbformat": 4,
  "nbformat_minor": 0,
  "metadata": {
    "colab": {
      "provenance": [],
      "collapsed_sections": []
    },
    "kernelspec": {
      "name": "python3",
      "display_name": "Python 3"
    },
    "language_info": {
      "name": "python"
    }
  },
  "cells": [
    {
      "cell_type": "code",
      "execution_count": 1,
      "metadata": {
        "id": "CeQpQq17sVRN"
      },
      "outputs": [],
      "source": [
        "import numpy as np\n",
        "from numpy import genfromtxt"
      ]
    },
    {
      "cell_type": "code",
      "source": [
        "data_path = 'https://raw.githubusercontent.com/jbrownlee/Datasets/master/pima-indians-diabetes.data.csv'\n",
        "my_data = genfromtxt(data_path, delimiter=',')"
      ],
      "metadata": {
        "id": "TOkHakcqsZGu"
      },
      "execution_count": 2,
      "outputs": []
    },
    {
      "cell_type": "code",
      "source": [
        "print(type(my_data))\n",
        "print(my_data.shape)"
      ],
      "metadata": {
        "colab": {
          "base_uri": "https://localhost:8080/"
        },
        "id": "crKT3w88saYo",
        "outputId": "167496af-e445-431e-eaf6-f4e8c810add9"
      },
      "execution_count": 3,
      "outputs": [
        {
          "output_type": "stream",
          "name": "stdout",
          "text": [
            "<class 'numpy.ndarray'>\n",
            "(768, 9)\n"
          ]
        }
      ]
    },
    {
      "cell_type": "code",
      "source": [
        "X = my_data[:, :-1] # features\n",
        "y = my_data[:, -1] # labels\n",
        "\n",
        "print(X.shape, y.shape)"
      ],
      "metadata": {
        "colab": {
          "base_uri": "https://localhost:8080/"
        },
        "id": "VBTmNmZxsbvD",
        "outputId": "d255617e-bd25-41f1-ccb8-46b8c2867198"
      },
      "execution_count": 4,
      "outputs": [
        {
          "output_type": "stream",
          "name": "stdout",
          "text": [
            "(768, 8) (768,)\n"
          ]
        }
      ]
    },
    {
      "cell_type": "code",
      "source": [
        "def sigmoid(x):\n",
        "    z = 1 / (1 + np.exp(-x))\n",
        "    return z\n"
      ],
      "metadata": {
        "id": "xRd0TcTPd1_M"
      },
      "execution_count": 5,
      "outputs": []
    },
    {
      "cell_type": "code",
      "source": [
        "import random\n",
        "import numpy\n",
        "import math\n",
        "\n",
        "data = my_data.tolist()   #numpy array converted to list\n",
        "\n",
        "# for i in range(len(data)):\n",
        "#    print(data[i])\n",
        "\n",
        "train_set = []\n",
        "val_set = []\n",
        "test_set = []\n",
        "\n",
        "for sample in data:\n",
        "    \n",
        "    R = random.random()\n",
        "    if R >= 0 and R <= 0.7:\n",
        "        train_set.append(sample)\n",
        "        \n",
        "    elif R > 0.7 and R <= 0.85:\n",
        "        val_set.append(sample)\n",
        "       \n",
        "    else:\n",
        "        test_set.append(sample)\n",
        "\n",
        "for train in train_set:\n",
        "    train.insert((len(train)-1), 1)   #adding bias\n",
        "    #print(train)\n",
        "\n",
        "theta = []\n",
        "\n",
        "for i in range(len(train_set[0])-1):    #random theta values\n",
        "    #print(train_set[0][i])\n",
        "    R = random.random()\n",
        "    theta.append(R)\n",
        "\n",
        "\n",
        "#for i in range(len(theta)):\n",
        "#    print(theta[i])\n",
        "\n",
        "lr_list = []\n",
        "val_acc_list = []\n",
        "\n",
        "\n",
        "\n",
        "#lr = 0.1\n",
        "\n",
        "\n",
        "max_itr = 500\n",
        "lr = 0.1   #learning rate\n",
        "history = []\n",
        "eps = 0.000001\n",
        "\n",
        "for itr in range(0, max_itr):\n",
        "    TJ = 0\n",
        "    for train_sample in train_set:\n",
        "        #train_sample_numpy = numpy.array(train_sample)\n",
        "        #z = np.dot(train_sample_numpy, theta)      #error because two numpy arrays are not of the same length\n",
        "        z = 0\n",
        "        for i in range(len(theta)):     \n",
        "            #train_sample[i] = train_sample[i] * theta[i]    #dot product done manually\n",
        "            z = z + (train_sample[i]*theta[i])\n",
        "        \n",
        "        h = sigmoid(z)\n",
        "        y = train_sample[len(train_sample)-1]\n",
        "        J = -y*(math.log(h+eps)) - (1-y)*(math.log((1-h)+eps))\n",
        "        TJ = TJ + J\n",
        "        dv = []\n",
        "        for i in range(len(theta)):\n",
        "            val = train_sample[i] * (h-y)\n",
        "            dv.append(val)\n",
        "        for i in range(len(theta)):\n",
        "            val = theta[i] - (dv[i] * lr)\n",
        "            theta[i] = val\n",
        "\n",
        "    TJ = TJ/(len(train_set))\n",
        "    history.append(TJ)\n",
        "   \n",
        "#validation\n",
        "\n",
        "correct = 0\n",
        "for valid_sample in val_set:\n",
        "    z = 0\n",
        "    for i in range(len(theta)):\n",
        "        z = z + (valid_sample[i]*theta[i])\n",
        "    h = sigmoid(z)\n",
        "\n",
        "    if h >= 0.5:\n",
        "        h = 1\n",
        "    else:\n",
        "        h = 0\n",
        "    \n",
        "    y = valid_sample[len(valid_sample)-1]\n",
        "    \n",
        "    if h == y:\n",
        "        correct = correct + 1\n",
        "\n",
        "val_acc = (correct * 100) / (len(val_set))\n",
        "\n",
        "lr_list.append(lr)\n",
        "val_acc_list.append(val_acc)\n",
        "\n",
        "print(lr, val_acc)\n",
        "\n",
        "\n",
        "\n",
        "\n",
        "\n",
        "\n",
        "#lr = 0.01\n",
        "\n",
        "max_itr = 500\n",
        "lr = 0.01   #learning rate\n",
        "history = []\n",
        "eps = 0.000001\n",
        "\n",
        "for itr in range(0, max_itr):\n",
        "    TJ = 0\n",
        "    for train_sample in train_set:\n",
        "        #train_sample_numpy = numpy.array(train_sample)\n",
        "        #z = np.dot(train_sample_numpy, theta)      #error because two numpy arrays are not of the same length\n",
        "        z = 0\n",
        "        for i in range(len(theta)):     \n",
        "            #train_sample[i] = train_sample[i] * theta[i]    #dot product done manually\n",
        "            z = z + (train_sample[i]*theta[i])\n",
        "        \n",
        "        h = sigmoid(z)\n",
        "        y = train_sample[len(train_sample)-1]\n",
        "        J = -y*(math.log(h+eps)) - (1-y)*(math.log((1-h)+eps))\n",
        "        TJ = TJ + J\n",
        "        dv = []\n",
        "        for i in range(len(theta)):\n",
        "            val = train_sample[i] * (h-y)\n",
        "            dv.append(val)\n",
        "        for i in range(len(theta)):\n",
        "            val = theta[i] - (dv[i] * lr)\n",
        "            theta[i] = val\n",
        "\n",
        "    TJ = TJ/(len(train_set))\n",
        "    history.append(TJ)\n",
        "   \n",
        "#validation\n",
        "\n",
        "correct = 0\n",
        "for valid_sample in val_set:\n",
        "    z = 0\n",
        "    for i in range(len(theta)):\n",
        "        z = z + (valid_sample[i]*theta[i])\n",
        "    h = sigmoid(z)\n",
        "\n",
        "    if h >= 0.5:\n",
        "        h = 1\n",
        "    else:\n",
        "        h = 0\n",
        "    \n",
        "    y = valid_sample[len(valid_sample)-1]\n",
        "    \n",
        "    if h == y:\n",
        "        correct = correct + 1\n",
        "\n",
        "val_acc = (correct * 100) / (len(val_set))\n",
        "\n",
        "lr_list.append(lr)\n",
        "val_acc_list.append(val_acc)\n",
        "\n",
        "print(lr, val_acc)\n",
        "\n",
        "\n",
        "\n",
        "\n",
        "#lr = 0.001\n",
        "\n",
        "max_itr = 500\n",
        "lr = 0.001   #learning rate\n",
        "history = []\n",
        "eps = 0.000001\n",
        "\n",
        "for itr in range(0, max_itr):\n",
        "    TJ = 0\n",
        "    for train_sample in train_set:\n",
        "        #train_sample_numpy = numpy.array(train_sample)\n",
        "        #z = np.dot(train_sample_numpy, theta)      #error because two numpy arrays are not of the same length\n",
        "        z = 0\n",
        "        for i in range(len(theta)):     \n",
        "            #train_sample[i] = train_sample[i] * theta[i]    #dot product done manually\n",
        "            z = z + (train_sample[i]*theta[i])\n",
        "        \n",
        "        h = sigmoid(z)\n",
        "        y = train_sample[len(train_sample)-1]\n",
        "        J = -y*(math.log(h+eps)) - (1-y)*(math.log((1-h)+eps))\n",
        "        TJ = TJ + J\n",
        "        dv = []\n",
        "        for i in range(len(theta)):\n",
        "            val = train_sample[i] * (h-y)\n",
        "            dv.append(val)\n",
        "        for i in range(len(theta)):\n",
        "            val = theta[i] - (dv[i] * lr)\n",
        "            theta[i] = val\n",
        "\n",
        "    TJ = TJ/(len(train_set))\n",
        "    history.append(TJ)\n",
        "   \n",
        "#validation\n",
        "\n",
        "correct = 0\n",
        "for valid_sample in val_set:\n",
        "    z = 0\n",
        "    for i in range(len(theta)):\n",
        "        z = z + (valid_sample[i]*theta[i])\n",
        "    h = sigmoid(z)\n",
        "\n",
        "    if h >= 0.5:\n",
        "        h = 1\n",
        "    else:\n",
        "        h = 0\n",
        "    \n",
        "    y = valid_sample[len(valid_sample)-1]\n",
        "    \n",
        "    if h == y:\n",
        "        correct = correct + 1\n",
        "\n",
        "val_acc = (correct * 100) / (len(val_set))\n",
        "\n",
        "lr_list.append(lr)\n",
        "val_acc_list.append(val_acc)\n",
        "\n",
        "print(lr, val_acc)\n",
        "\n",
        "\n",
        "\n",
        "\n",
        "#lr = 0.0001\n",
        "\n",
        "max_itr = 500\n",
        "lr = 0.0001   #learning rate\n",
        "history = []\n",
        "eps = 0.000001\n",
        "\n",
        "for itr in range(0, max_itr):\n",
        "    TJ = 0\n",
        "    for train_sample in train_set:\n",
        "        #train_sample_numpy = numpy.array(train_sample)\n",
        "        #z = np.dot(train_sample_numpy, theta)      #error because two numpy arrays are not of the same length\n",
        "        z = 0\n",
        "        for i in range(len(theta)):     \n",
        "            #train_sample[i] = train_sample[i] * theta[i]    #dot product done manually\n",
        "            z = z + (train_sample[i]*theta[i])\n",
        "        \n",
        "        h = sigmoid(z)\n",
        "        y = train_sample[len(train_sample)-1]\n",
        "        J = -y*(math.log(h+eps)) - (1-y)*(math.log((1-h)+eps))\n",
        "        TJ = TJ + J\n",
        "        dv = []\n",
        "        for i in range(len(theta)):\n",
        "            val = train_sample[i] * (h-y)\n",
        "            dv.append(val)\n",
        "        for i in range(len(theta)):\n",
        "            val = theta[i] - (dv[i] * lr)\n",
        "            theta[i] = val\n",
        "\n",
        "    TJ = TJ/(len(train_set))\n",
        "    history.append(TJ)\n",
        "   \n",
        "#validation\n",
        "\n",
        "correct = 0\n",
        "for valid_sample in val_set:\n",
        "    z = 0\n",
        "    for i in range(len(theta)):\n",
        "        z = z + (valid_sample[i]*theta[i])\n",
        "    h = sigmoid(z)\n",
        "\n",
        "    if h >= 0.5:\n",
        "        h = 1\n",
        "    else:\n",
        "        h = 0\n",
        "    \n",
        "    y = valid_sample[len(valid_sample)-1]\n",
        "    \n",
        "    if h == y:\n",
        "        correct = correct + 1\n",
        "\n",
        "val_acc = (correct * 100) / (len(val_set))\n",
        "\n",
        "lr_list.append(lr)\n",
        "val_acc_list.append(val_acc)\n",
        "\n",
        "print(lr, val_acc)\n",
        "\n",
        "\n",
        "\n",
        "\n",
        "# for i in range(len(val_acc_list)):\n",
        "#     print(val_acc_list[i])\n",
        "#     print(lr_list[i])\n",
        "\n",
        "\n",
        "\n",
        "#test\n",
        "\n",
        "max_acc = val_acc_list[0]\n",
        "index = 0\n",
        "for i in range(len(val_acc_list)):\n",
        "    if(val_acc_list[i]>max_acc):\n",
        "        max_acc = val_acc_list\n",
        "        index = i\n",
        "\n",
        "max_lr = lr_list[index]\n",
        "\n",
        "\n",
        "max_itr = 500\n",
        "history = []\n",
        "eps = 0.000001\n",
        "\n",
        "for itr in range(0, max_itr):\n",
        "    TJ = 0\n",
        "    for train_sample in train_set:\n",
        "        #train_sample_numpy = numpy.array(train_sample)\n",
        "        #z = np.dot(train_sample_numpy, theta)      #error because two numpy arrays are not of the same length\n",
        "        z = 0\n",
        "        for i in range(len(theta)):     \n",
        "            #train_sample[i] = train_sample[i] * theta[i]    #dot product done manually\n",
        "            z = z + (train_sample[i]*theta[i])\n",
        "        \n",
        "        h = sigmoid(z)\n",
        "        y = train_sample[len(train_sample)-1]\n",
        "        J = -y*(math.log(h+eps)) - (1-y)*(math.log((1-h)+eps))\n",
        "        TJ = TJ + J\n",
        "        dv = []\n",
        "        for i in range(len(theta)):\n",
        "            val = train_sample[i] * (h-y)\n",
        "            dv.append(val)\n",
        "        for i in range(len(theta)):\n",
        "            val = theta[i] - (dv[i] * max_lr)\n",
        "            theta[i] = val\n",
        "\n",
        "    TJ = TJ/(len(train_set))\n",
        "    history.append(TJ)\n",
        "   \n",
        "#validation\n",
        "\n",
        "correct = 0\n",
        "for test_sample in test_set:\n",
        "    z = 0\n",
        "    for i in range(len(theta)):\n",
        "        z = z + (test_sample[i]*theta[i])\n",
        "    h = sigmoid(z)\n",
        "\n",
        "    if h >= 0.5:\n",
        "        h = 1\n",
        "    else:\n",
        "        h = 0\n",
        "    \n",
        "    y = test_sample[len(test_sample)-1]\n",
        "    \n",
        "    if h == y:\n",
        "        correct = correct + 1\n",
        "\n",
        "test_acc = (correct * 100) / (len(test_set))\n",
        "\n",
        "print(\"Test\")\n",
        "print(max_lr, test_acc)\n",
        "\n",
        "\n",
        "\n",
        "\n"
      ],
      "metadata": {
        "colab": {
          "base_uri": "https://localhost:8080/"
        },
        "id": "cmwUSAdwuAep",
        "outputId": "eec5a941-1225-4dad-a8d5-aa7aef03176d"
      },
      "execution_count": 27,
      "outputs": [
        {
          "output_type": "stream",
          "name": "stderr",
          "text": [
            "/usr/local/lib/python3.7/dist-packages/ipykernel_launcher.py:2: RuntimeWarning: overflow encountered in exp\n",
            "  \n"
          ]
        },
        {
          "output_type": "stream",
          "name": "stdout",
          "text": [
            "0.1 59.01639344262295\n",
            "0.01 22.131147540983605\n",
            "0.001 20.491803278688526\n",
            "0.0001 25.40983606557377\n",
            "Test\n",
            "0.1 27.35042735042735\n"
          ]
        }
      ]
    },
    {
      "cell_type": "code",
      "source": [
        "#from sklearn.model_selection import train_test_split"
      ],
      "metadata": {
        "id": "6kfBXZPusc-V"
      },
      "execution_count": null,
      "outputs": []
    },
    {
      "cell_type": "code",
      "source": [
        "#X_train, X_test, y_train, y_test = train_test_split(X, y, test_size=0.2, random_state = 1)"
      ],
      "metadata": {
        "id": "LdqSJKViseb1"
      },
      "execution_count": null,
      "outputs": []
    },
    {
      "cell_type": "code",
      "source": [
        "#print(X_train.shape, X_test.shape, y_train.shape, y_test.shape)"
      ],
      "metadata": {
        "colab": {
          "base_uri": "https://localhost:8080/"
        },
        "id": "Tw-l2vybsf1p",
        "outputId": "af70f453-e2f3-4973-ae10-4d6fc4277e45"
      },
      "execution_count": null,
      "outputs": [
        {
          "output_type": "stream",
          "name": "stdout",
          "text": [
            "(614, 8) (154, 8) (614,) (154,)\n"
          ]
        }
      ]
    },
    {
      "cell_type": "code",
      "source": [
        "# print(np.log(10))\n",
        "# print(np.log(0)) # use epsilon = 0.00001\n",
        "# eps = 0.0000001\n",
        "# x = 0\n",
        "# print(np.log(x))\n",
        "# print(np.log(x+eps))"
      ],
      "metadata": {
        "colab": {
          "base_uri": "https://localhost:8080/"
        },
        "id": "rkW8n3MxshWp",
        "outputId": "55c984c9-48d7-43f3-8dc8-b6d51ec3d80c"
      },
      "execution_count": null,
      "outputs": [
        {
          "output_type": "stream",
          "name": "stdout",
          "text": [
            "2.302585092994046\n",
            "-inf\n",
            "-inf\n",
            "-16.11809565095832\n"
          ]
        },
        {
          "output_type": "stream",
          "name": "stderr",
          "text": [
            "/usr/local/lib/python3.7/dist-packages/ipykernel_launcher.py:2: RuntimeWarning: divide by zero encountered in log\n",
            "  \n",
            "/usr/local/lib/python3.7/dist-packages/ipykernel_launcher.py:5: RuntimeWarning: divide by zero encountered in log\n",
            "  \"\"\"\n"
          ]
        }
      ]
    },
    {
      "cell_type": "code",
      "source": [
        "#np.random.seed(100)"
      ],
      "metadata": {
        "id": "MRI7l023silF"
      },
      "execution_count": null,
      "outputs": []
    },
    {
      "cell_type": "code",
      "source": [
        "# def sigmoid(x):\n",
        "#     z = 1 / (1 + np.exp(-x))\n",
        "#     return z\n",
        "\n",
        "# sigmoid(27.5)"
      ],
      "metadata": {
        "colab": {
          "base_uri": "https://localhost:8080/"
        },
        "id": "p0Vo0KXRsj1J",
        "outputId": "106dab32-9c8e-46ce-814d-75b96af32704"
      },
      "execution_count": null,
      "outputs": [
        {
          "output_type": "execute_result",
          "data": {
            "text/plain": [
              "0.99999999999886"
            ]
          },
          "metadata": {},
          "execution_count": 10
        }
      ]
    },
    {
      "cell_type": "code",
      "source": [
        "# history = []\n",
        "# history.append(23.5)\n",
        "# history.append(20.1)\n",
        "# history.append(15.1)\n",
        "# history.append(12.3)\n",
        "# history.append(11.3)\n",
        "# history.append(10.7)\n",
        "# history.append(10.7)\n",
        "# history.append(10.7)\n",
        "# history.append(10.7)"
      ],
      "metadata": {
        "id": "QCv-BxOgslT0"
      },
      "execution_count": null,
      "outputs": []
    },
    {
      "cell_type": "code",
      "source": [
        "import matplotlib.pyplot as plt\n",
        "\n",
        "# for i in range(len(history)):\n",
        "#     print(history[i])\n",
        "\n",
        "plt.plot(history)\n",
        "plt.show()    #history vs itr graph"
      ],
      "metadata": {
        "colab": {
          "base_uri": "https://localhost:8080/",
          "height": 265
        },
        "id": "LKDBzz2nsm0t",
        "outputId": "06db9211-32f0-4969-ca6a-59ca619bc4c6"
      },
      "execution_count": 28,
      "outputs": [
        {
          "output_type": "display_data",
          "data": {
            "text/plain": [
              "<Figure size 432x288 with 1 Axes>"
            ],
            "image/png": "[encoded data removed]"
          },
          "metadata": {
            "needs_background": "light"
          }
        }
      ]
    },
    {
      "cell_type": "code",
      "source": [
        "# from sklearn.datasets import load_digits\n",
        "# %matplotlib inline\n",
        "# import matplotlib.pyplot as plt"
      ],
      "metadata": {
        "id": "6PFB4xLGsoJd"
      },
      "execution_count": null,
      "outputs": []
    },
    {
      "cell_type": "code",
      "source": [
        "# digits = load_digits()"
      ],
      "metadata": {
        "id": "CGz4lkzZspPF"
      },
      "execution_count": null,
      "outputs": []
    },
    {
      "cell_type": "code",
      "source": [
        "# plt.gray() \n",
        "# for i in range(10,20):\n",
        "    # plt.matshow(digits.images[i])"
      ],
      "metadata": {
        "id": "n8Xl2MwKsr7S"
      },
      "execution_count": null,
      "outputs": []
    },
    {
      "cell_type": "code",
      "source": [
        "# dir(digits)"
      ],
      "metadata": {
        "colab": {
          "base_uri": "https://localhost:8080/"
        },
        "id": "ODdgkM6kstyq",
        "outputId": "fb398bda-82de-4b8c-a517-d2d7e56a29cf"
      },
      "execution_count": null,
      "outputs": [
        {
          "output_type": "execute_result",
          "data": {
            "text/plain": [
              "['DESCR', 'data', 'feature_names', 'frame', 'images', 'target', 'target_names']"
            ]
          },
          "metadata": {},
          "execution_count": 16
        }
      ]
    },
    {
      "cell_type": "code",
      "source": [
        "# print(digits.data.shape, digits.target.shape)\n",
        "\n",
        "# print(digits.feature_names)\n",
        "# print(digits.target_names)"
      ],
      "metadata": {
        "colab": {
          "base_uri": "https://localhost:8080/"
        },
        "id": "oipuVJHGsvFk",
        "outputId": "673eb492-6f27-45a8-eac6-13393b18e792"
      },
      "execution_count": null,
      "outputs": [
        {
          "output_type": "stream",
          "name": "stdout",
          "text": [
            "(1797, 64) (1797,)\n",
            "['pixel_0_0', 'pixel_0_1', 'pixel_0_2', 'pixel_0_3', 'pixel_0_4', 'pixel_0_5', 'pixel_0_6', 'pixel_0_7', 'pixel_1_0', 'pixel_1_1', 'pixel_1_2', 'pixel_1_3', 'pixel_1_4', 'pixel_1_5', 'pixel_1_6', 'pixel_1_7', 'pixel_2_0', 'pixel_2_1', 'pixel_2_2', 'pixel_2_3', 'pixel_2_4', 'pixel_2_5', 'pixel_2_6', 'pixel_2_7', 'pixel_3_0', 'pixel_3_1', 'pixel_3_2', 'pixel_3_3', 'pixel_3_4', 'pixel_3_5', 'pixel_3_6', 'pixel_3_7', 'pixel_4_0', 'pixel_4_1', 'pixel_4_2', 'pixel_4_3', 'pixel_4_4', 'pixel_4_5', 'pixel_4_6', 'pixel_4_7', 'pixel_5_0', 'pixel_5_1', 'pixel_5_2', 'pixel_5_3', 'pixel_5_4', 'pixel_5_5', 'pixel_5_6', 'pixel_5_7', 'pixel_6_0', 'pixel_6_1', 'pixel_6_2', 'pixel_6_3', 'pixel_6_4', 'pixel_6_5', 'pixel_6_6', 'pixel_6_7', 'pixel_7_0', 'pixel_7_1', 'pixel_7_2', 'pixel_7_3', 'pixel_7_4', 'pixel_7_5', 'pixel_7_6', 'pixel_7_7']\n",
            "[0 1 2 3 4 5 6 7 8 9]\n"
          ]
        }
      ]
    },
    {
      "cell_type": "code",
      "source": [
        "# print(digits.data[1])\n",
        "# print(digits.target[1])"
      ],
      "metadata": {
        "colab": {
          "base_uri": "https://localhost:8080/"
        },
        "id": "jwOW62tvswUA",
        "outputId": "53fb0fd5-e692-4b2b-c82c-b35a795a1068"
      },
      "execution_count": null,
      "outputs": [
        {
          "output_type": "stream",
          "name": "stdout",
          "text": [
            "[ 0.  0.  0. 12. 13.  5.  0.  0.  0.  0.  0. 11. 16.  9.  0.  0.  0.  0.\n",
            "  3. 15. 16.  6.  0.  0.  0.  7. 15. 16. 16.  2.  0.  0.  0.  0.  1. 16.\n",
            " 16.  3.  0.  0.  0.  0.  1. 16. 16.  6.  0.  0.  0.  0.  1. 16. 16.  6.\n",
            "  0.  0.  0.  0.  0. 11. 16. 10.  0.  0.]\n",
            "1\n"
          ]
        }
      ]
    },
    {
      "cell_type": "code",
      "source": [
        "# from sklearn.model_selection import train_test_split"
      ],
      "metadata": {
        "id": "uBBrXgYdsxuf"
      },
      "execution_count": null,
      "outputs": []
    },
    {
      "cell_type": "code",
      "source": [
        "# X_train, X_test, y_train, y_test = train_test_split(digits.data, digits.target, test_size=0.2)"
      ],
      "metadata": {
        "id": "Sqp6n_y6szjC"
      },
      "execution_count": null,
      "outputs": []
    },
    {
      "cell_type": "code",
      "source": [
        "# from sklearn.linear_model import LogisticRegression  # class"
      ],
      "metadata": {
        "id": "wQm6kpDLs1Dg"
      },
      "execution_count": null,
      "outputs": []
    },
    {
      "cell_type": "code",
      "source": [
        "# model = LogisticRegression(max_iter= 500) "
      ],
      "metadata": {
        "id": "nK8rVKaSs2Hd"
      },
      "execution_count": null,
      "outputs": []
    },
    {
      "cell_type": "code",
      "source": [
        "# model.fit(X_train, y_train) # numpy array"
      ],
      "metadata": {
        "colab": {
          "base_uri": "https://localhost:8080/"
        },
        "id": "mm-CEw0Ks3Kb",
        "outputId": "7e5f16b5-8421-48dc-8ef5-2857f3e2a18e"
      },
      "execution_count": null,
      "outputs": [
        {
          "output_type": "stream",
          "name": "stderr",
          "text": [
            "/usr/local/lib/python3.7/dist-packages/sklearn/linear_model/_logistic.py:818: ConvergenceWarning: lbfgs failed to converge (status=1):\n",
            "STOP: TOTAL NO. of ITERATIONS REACHED LIMIT.\n",
            "\n",
            "Increase the number of iterations (max_iter) or scale the data as shown in:\n",
            "    https://scikit-learn.org/stable/modules/preprocessing.html\n",
            "Please also refer to the documentation for alternative solver options:\n",
            "    https://scikit-learn.org/stable/modules/linear_model.html#logistic-regression\n",
            "  extra_warning_msg=_LOGISTIC_SOLVER_CONVERGENCE_MSG,\n"
          ]
        },
        {
          "output_type": "execute_result",
          "data": {
            "text/plain": [
              "LogisticRegression(max_iter=500)"
            ]
          },
          "metadata": {},
          "execution_count": 23
        }
      ]
    },
    {
      "cell_type": "code",
      "source": [
        "# y_pred = model.predict(digits.data[0:5])\n",
        "# print(y_pred)\n",
        "# print(digits.target[0:5])"
      ],
      "metadata": {
        "colab": {
          "base_uri": "https://localhost:8080/"
        },
        "id": "y_SA2DHTs4pC",
        "outputId": "31dd73bf-558a-4db4-bfbc-56e8042ce06a"
      },
      "execution_count": null,
      "outputs": [
        {
          "output_type": "stream",
          "name": "stdout",
          "text": [
            "[0 1 2 3 4]\n",
            "[0 1 2 3 4]\n"
          ]
        }
      ]
    },
    {
      "cell_type": "code",
      "source": [
        "# model.score(X_test, y_test)"
      ],
      "metadata": {
        "colab": {
          "base_uri": "https://localhost:8080/"
        },
        "id": "ryOjxbnJs6Hn",
        "outputId": "f06d19e1-b2ca-426d-bfd3-4d8f15d634c8"
      },
      "execution_count": null,
      "outputs": [
        {
          "output_type": "execute_result",
          "data": {
            "text/plain": [
              "0.9694444444444444"
            ]
          },
          "metadata": {},
          "execution_count": 25
        }
      ]
    },
    {
      "cell_type": "code",
      "source": [
        "# y_predicted = model.predict(X_test)"
      ],
      "metadata": {
        "id": "vOVx8moAs7ON"
      },
      "execution_count": null,
      "outputs": []
    },
    {
      "cell_type": "code",
      "source": [
        "# from sklearn.metrics import confusion_matrix\n",
        "# cm = confusion_matrix(y_test, y_predicted) # y_test -> true output, y_predicted -> estimated/ predicted output by the model\n",
        "# cm"
      ],
      "metadata": {
        "colab": {
          "base_uri": "https://localhost:8080/"
        },
        "id": "TjHeD-28s8cv",
        "outputId": "4ac34971-72cf-4220-9bde-2c08f36eb16c"
      },
      "execution_count": null,
      "outputs": [
        {
          "output_type": "execute_result",
          "data": {
            "text/plain": [
              "array([[42,  0,  0,  0,  0,  0,  0,  0,  0,  0],\n",
              "       [ 0, 30,  0,  0,  0,  0,  0,  0,  2,  0],\n",
              "       [ 0,  0, 41,  0,  0,  0,  0,  0,  0,  0],\n",
              "       [ 0,  0,  0, 30,  0,  0,  0,  0,  0,  2],\n",
              "       [ 0,  0,  0,  0, 34,  0,  0,  0,  1,  1],\n",
              "       [ 0,  0,  0,  0,  0, 35,  0,  0,  0,  0],\n",
              "       [ 0,  0,  0,  0,  0,  0, 39,  0,  1,  0],\n",
              "       [ 0,  0,  0,  0,  1,  0,  0, 37,  0,  1],\n",
              "       [ 0,  1,  0,  0,  0,  1,  0,  0, 25,  0],\n",
              "       [ 0,  0,  0,  0,  0,  0,  0,  0,  0, 36]])"
            ]
          },
          "metadata": {},
          "execution_count": 27
        }
      ]
    },
    {
      "cell_type": "code",
      "source": [
        "# import seaborn as sn # data visualization is a sub domain of data mining\n",
        "# plt.figure(figsize = (20,10))\n",
        "# sn.heatmap(cm, annot=True)\n",
        "# plt.xlabel('Predicted')\n",
        "# plt.ylabel('Truth')"
      ],
      "metadata": {
        "colab": {
          "base_uri": "https://localhost:8080/",
          "height": 508
        },
        "id": "M7kSEx21s9v5",
        "outputId": "09360b14-1619-44d8-8f08-9dca0d0ee6ec"
      },
      "execution_count": null,
      "outputs": [
        {
          "output_type": "execute_result",
          "data": {
            "text/plain": [
              "Text(159.0, 0.5, 'Truth')"
            ]
          },
          "metadata": {},
          "execution_count": 28
        },
        {
          "output_type": "display_data",
          "data": {
            "text/plain": [
              "<Figure size 1440x720 with 2 Axes>"
            ],
            "image/png": "[encoded data removed]"
          },
          "metadata": {
            "needs_background": "light"
          }
        }
      ]
    },
    {
      "cell_type": "markdown",
      "source": [
        "Rough (Not part of the algorithm)"
      ],
      "metadata": {
        "id": "JWguE_DGvesx"
      }
    },
    {
      "cell_type": "code",
      "source": [
        "# li = [5, 4, 3]\n",
        "# print(li[len(li)-1])\n",
        "\n",
        "# li2 = [2, 1, 1]\n",
        "\n",
        "# li3 = []\n",
        "\n",
        "# for i in range(len(li)):\n",
        "#     val = li[i] - li2[i]\n",
        "#     li3.append(val)\n",
        "\n",
        "# for i in range(len(li3)):\n",
        "#     print(li3[i])\n",
        "\n",
        "# import math\n",
        "\n",
        "# print(math.log(4,4))\n",
        "\n",
        "\n",
        "\n"
      ],
      "metadata": {
        "colab": {
          "base_uri": "https://localhost:8080/"
        },
        "id": "0FO1aml2vYHj",
        "outputId": "2188edde-8f8a-4cfc-dfd1-65661716f182"
      },
      "execution_count": null,
      "outputs": [
        {
          "output_type": "stream",
          "name": "stdout",
          "text": [
            "3\n",
            "3\n",
            "3\n",
            "2\n",
            "1.0\n"
          ]
        }
      ]
    }
  ]
}