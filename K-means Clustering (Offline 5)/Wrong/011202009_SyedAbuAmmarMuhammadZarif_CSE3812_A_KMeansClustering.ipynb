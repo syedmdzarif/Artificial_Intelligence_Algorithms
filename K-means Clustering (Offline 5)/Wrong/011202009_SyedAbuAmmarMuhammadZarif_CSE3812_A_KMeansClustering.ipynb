{
  "nbformat": 4,
  "nbformat_minor": 0,
  "metadata": {
    "colab": {
      "provenance": [],
      "collapsed_sections": []
    },
    "kernelspec": {
      "name": "python3",
      "display_name": "Python 3"
    },
    "language_info": {
      "name": "python"
    }
  },
  "cells": [
    {
      "cell_type": "code",
      "execution_count": null,
      "metadata": {
        "id": "RtB_PSn2SDCI"
      },
      "outputs": [],
      "source": [
        "import numpy as np\n",
        "from numpy import genfromtxt"
      ]
    },
    {
      "cell_type": "code",
      "source": [
        "data_path = 'g_data.csv'\n",
        "my_data = genfromtxt(data_path, delimiter=',')"
      ],
      "metadata": {
        "id": "iJfJA6aZSHZH"
      },
      "execution_count": null,
      "outputs": []
    },
    {
      "cell_type": "code",
      "source": [
        "print(type(my_data))\n",
        "print(my_data.shape)"
      ],
      "metadata": {
        "colab": {
          "base_uri": "https://localhost:8080/"
        },
        "id": "lf8ds-NoSIu-",
        "outputId": "47708f84-44e4-4c1d-a33d-536d333226bc"
      },
      "execution_count": null,
      "outputs": [
        {
          "output_type": "stream",
          "name": "stdout",
          "text": [
            "<class 'numpy.ndarray'>\n",
            "(1700, 2)\n"
          ]
        }
      ]
    },
    {
      "cell_type": "code",
      "source": [
        "import matplotlib.pyplot as plt \n",
        "\n",
        "plt.scatter(my_data[:,0], my_data[:,1])"
      ],
      "metadata": {
        "colab": {
          "base_uri": "https://localhost:8080/",
          "height": 282
        },
        "id": "ukoVqERMSKHt",
        "outputId": "5c8bb86c-515e-44f1-8b90-6a7619f63335"
      },
      "execution_count": null,
      "outputs": [
        {
          "output_type": "execute_result",
          "data": {
            "text/plain": [
              "<matplotlib.collections.PathCollection at 0x7f0613743410>"
            ]
          },
          "metadata": {},
          "execution_count": 103
        },
        {
          "output_type": "display_data",
          "data": {
            "text/plain": [
              "<Figure size 432x288 with 1 Axes>"
            ],
            "image/png": "[encoded data removed]"
          },
          "metadata": {
            "needs_background": "light"
          }
        }
      ]
    },
    {
      "cell_type": "code",
      "source": [
        "import matplotlib.pyplot as plt \n",
        "\n",
        "a = [4, 5, 6, 10]\n",
        "b = [100, 200, 500, 600]\n",
        "plt.scatter(a, b)"
      ],
      "metadata": {
        "colab": {
          "base_uri": "https://localhost:8080/",
          "height": 282
        },
        "id": "JTMMmpPfSLzK",
        "outputId": "049fe0dc-1e9d-46ea-fc95-9601d3668307"
      },
      "execution_count": null,
      "outputs": [
        {
          "output_type": "execute_result",
          "data": {
            "text/plain": [
              "<matplotlib.collections.PathCollection at 0x7f061513a250>"
            ]
          },
          "metadata": {},
          "execution_count": 104
        },
        {
          "output_type": "display_data",
          "data": {
            "text/plain": [
              "<Figure size 432x288 with 1 Axes>"
            ],
            "image/png": "[encoded data removed]"
          },
          "metadata": {
            "needs_background": "light"
          }
        }
      ]
    },
    {
      "cell_type": "code",
      "source": [
        "def eucledean_distance(sample, center):\n",
        "    distance = abs(center[0]-sample[0]) + abs(center[1]-sample[1])\n",
        "    return distance"
      ],
      "metadata": {
        "id": "zxonmahliv4_"
      },
      "execution_count": null,
      "outputs": []
    },
    {
      "cell_type": "code",
      "source": [
        "import matplotlib.pyplot as plt "
      ],
      "metadata": {
        "id": "pE4kg_eAJARE"
      },
      "execution_count": null,
      "outputs": []
    },
    {
      "cell_type": "markdown",
      "source": [
        "K = 2"
      ],
      "metadata": {
        "id": "inzgy21UKoGt"
      }
    },
    {
      "cell_type": "code",
      "source": [
        "import random\n",
        "import copy\n",
        "\n",
        "\n",
        "data = my_data.tolist()\n",
        "inertia_list = []\n",
        "\n",
        "random.seed(11202009)\n",
        "\n",
        "K = 2\n",
        "centers = []\n",
        "for k in range(K):\n",
        "    num = random.randint(0, len(data))    #randomly generating k centers\n",
        "    centers.append(data[num])\n",
        "#print(centers)\n",
        "\n",
        "clusters = []\n",
        "for i in range(K):\n",
        "    clusters.append([])   \n",
        "min_dis = 99999999 \n",
        "index = 0   \n",
        "for sample in data:\n",
        "    for i in range(K):\n",
        "        dis = eucledean_distance(sample, centers[i])\n",
        "        if dis < min_dis:\n",
        "            min_dis = dis\n",
        "            index = i\n",
        "    \n",
        "    clusters[index].append(sample)\n",
        "\n",
        "# for i in range(K):\n",
        "#     print(clusters[i])\n",
        "\n",
        "itr = 1\n",
        "shift = 1   #to initially enter the while loop, later shift is changed to 0\n",
        "flag = 0    #to keep track of change\n",
        "while(flag != 0):\n",
        "    sum_x = 0\n",
        "    sum_y = 0\n",
        "    for i in range(K):\n",
        "        if(len(clusters[i]) != 0):\n",
        "            for j in range(len(clusters[i])):\n",
        "                sum_x = sum_x + clusters[i][j][0]\n",
        "                sum_y = sum_y + clusters[i][j][1]\n",
        "\n",
        "            \n",
        "            center_x = sum_x / (len(clusters[i]))  \n",
        "            center_y = sum_y / (len(clusters[i]))\n",
        "\n",
        "            center_updated = [center_x, center_y]\n",
        "\n",
        "            centers[i] = center_updated\n",
        "\n",
        "    if itr > 1 and shift < 50:\n",
        "        break   #convergence\n",
        "\n",
        "    shift = 0\n",
        "\n",
        "    temp_clusters = []\n",
        "    for i in range(K):\n",
        "        temp_clusters.append([])   \n",
        "\n",
        "    min_dis = 99999999 \n",
        "    index = 0   \n",
        "    for sample in data:\n",
        "        for i in range(K):\n",
        "            dis = eucledean_distance(sample, centers[i])\n",
        "            if dis < min_dis:\n",
        "                min_dis = dis\n",
        "                index = i\n",
        "    \n",
        "        temp_clusters[index].append(sample)\n",
        "        \n",
        "        index_clusters = 0\n",
        "        for m in range(K):\n",
        "            for n in range(len(clusters[m])):\n",
        "                if(clusters[m][n] == sample):\n",
        "                      index_clusters = m\n",
        "        \n",
        "        if index_clusters != index:\n",
        "            shift = shift + 1\n",
        "            flag = 0\n",
        "        else:\n",
        "            flag = 1\n",
        "\n",
        "     \n",
        "    clusters = copy.deepcopy(temp_clusters)  \n",
        "    itr = itr + 1\n",
        "\n",
        "\n",
        "inertia = 0\n",
        "for i in range(K):\n",
        "    for j in range(len(clusters[i])):\n",
        "        dis = eucledean_distance(clusters[i][j], centers[i])\n",
        "        inertia = inertia + dis\n",
        "\n",
        "print(K, inertia)\n",
        "inertia_list.append(inertia)  \n"
      ],
      "metadata": {
        "id": "hRH5lnm3SN9Y",
        "colab": {
          "base_uri": "https://localhost:8080/"
        },
        "outputId": "e285ccb1-0216-425d-b6ec-de9ba5bf1401"
      },
      "execution_count": null,
      "outputs": [
        {
          "output_type": "stream",
          "name": "stdout",
          "text": [
            "2 114321.11823406321\n"
          ]
        }
      ]
    },
    {
      "cell_type": "code",
      "source": [
        "# i = 0\n",
        "# k = 0\n",
        "# for S in my_data:\n",
        "#     clusters[k].append(i)\n",
        "#     i+=1\n",
        "    \n",
        "#     if i==500:\n",
        "#         k+=1\n",
        "#     elif i==500+400:\n",
        "#         k+=1\n",
        "#     elif i==500+400+350:\n",
        "#         k+=1"
      ],
      "metadata": {
        "id": "zC-QI0nMSQDq"
      },
      "execution_count": null,
      "outputs": []
    },
    {
      "cell_type": "code",
      "source": [
        "#import matplotlib.pyplot as plt "
      ],
      "metadata": {
        "id": "YWYigvVcSSz4"
      },
      "execution_count": null,
      "outputs": []
    },
    {
      "cell_type": "code",
      "source": [
        "#len(clusters)"
      ],
      "metadata": {
        "id": "Lm1l4rqKSVdz"
      },
      "execution_count": null,
      "outputs": []
    },
    {
      "cell_type": "code",
      "source": [
        "# colors = ['m', 'r', 'g', 'b', 'c', 'k', 'y']\n",
        "# for k in range(K):\n",
        "#     x, y = [], []\n",
        "#     for i in clusters[k]:\n",
        "#         x.append(my_data[i][0])\n",
        "#         y.append(my_data[i][1])\n",
        "#     plt.scatter(x, y, c=colors[k], label=\"Cluster \"+str(k))\n",
        "# plt.xlabel(\"x\")\n",
        "# plt.ylabel(\"y\")\n",
        "# plt.legend(loc='lower left')\n",
        "# plt.show()\n",
        "\n",
        "\n",
        "\n",
        "#print(len(clusters))\n",
        "\n",
        "colors = ['m', 'r', 'g', 'b', 'c', 'k', 'y']\n",
        "for k in range(K):\n",
        "    x = []\n",
        "    y = []\n",
        "    for i in range(len(clusters[k])):\n",
        "        x.append(data[i][0])\n",
        "        y.append(data[i][1])\n",
        "    plt.scatter(x, y, c=colors[k], label=\"Cluster \"+str(k))\n",
        "plt.xlabel(\"x\")\n",
        "plt.ylabel(\"y\")\n",
        "plt.legend(loc='lower left')\n",
        "plt.show()"
      ],
      "metadata": {
        "colab": {
          "base_uri": "https://localhost:8080/",
          "height": 279
        },
        "id": "jzVCIWDYSYUA",
        "outputId": "d236000e-8597-48f6-ebbc-1e29b6d7defc"
      },
      "execution_count": null,
      "outputs": [
        {
          "output_type": "display_data",
          "data": {
            "text/plain": [
              "<Figure size 432x288 with 1 Axes>"
            ],
            "image/png": "[encoded data removed]"
          },
          "metadata": {
            "needs_background": "light"
          }
        }
      ]
    },
    {
      "cell_type": "markdown",
      "source": [
        "K = 4"
      ],
      "metadata": {
        "id": "d53v0kXzKNKg"
      }
    },
    {
      "cell_type": "code",
      "source": [
        "K = 4\n",
        "centers = []\n",
        "for k in range(K):\n",
        "    num = random.randint(0, len(data))    #randomly generating k centers\n",
        "    centers.append(data[num])\n",
        "#print(centers)\n",
        "\n",
        "clusters = []\n",
        "for i in range(K):\n",
        "    clusters.append([])   \n",
        "min_dis = 99999999 \n",
        "index = 0   \n",
        "for sample in data:\n",
        "    for i in range(K):\n",
        "        dis = eucledean_distance(sample, centers[i])\n",
        "        if dis < min_dis:\n",
        "            min_dis = dis\n",
        "            index = i\n",
        "    \n",
        "    clusters[index].append(sample)\n",
        "\n",
        "# for i in range(K):\n",
        "#     print(clusters[i])\n",
        "\n",
        "itr = 1\n",
        "shift = 1   #to initially enter the while loop, later shift is changed to 0\n",
        "flag = 0\n",
        "while(flag != 1):\n",
        "    sum_x = 0\n",
        "    sum_y = 0\n",
        "    for i in range(K):\n",
        "        if(len(clusters[i]) != 0):\n",
        "            for j in range(len(clusters[i])):\n",
        "                sum_x = sum_x + clusters[i][j][0]\n",
        "                sum_y = sum_y + clusters[i][j][1]\n",
        "\n",
        "            \n",
        "            center_x = sum_x / (len(clusters[i]))  \n",
        "            center_y = sum_y / (len(clusters[i]))\n",
        "\n",
        "            center_updated = [center_x, center_y]\n",
        "\n",
        "            centers[i] = center_updated\n",
        "\n",
        "    if itr > 1 and shift < 50:\n",
        "        break   #convergence\n",
        "\n",
        "    shift = 0\n",
        "\n",
        "    temp_clusters = []\n",
        "    for i in range(K):\n",
        "        temp_clusters.append([])   \n",
        "\n",
        "    min_dis = 99999999 \n",
        "    index = 0   \n",
        "    for sample in data:\n",
        "        for i in range(K):\n",
        "            dis = eucledean_distance(sample, centers[i])\n",
        "            if dis < min_dis:\n",
        "                min_dis = dis\n",
        "                index = i\n",
        "    \n",
        "        temp_clusters[index].append(sample)\n",
        "        \n",
        "        index_clusters = 0\n",
        "        for m in range(K):\n",
        "            for n in range(len(clusters[m])):\n",
        "                if(clusters[m][n] == sample):\n",
        "                      index_clusters = m\n",
        "        \n",
        "        if index_clusters != index:\n",
        "            shift = shift + 1\n",
        "            flag = 0\n",
        "        else:\n",
        "            flag = 1\n",
        "\n",
        "     \n",
        "    clusters = copy.deepcopy(temp_clusters)  \n",
        "    itr = itr + 1\n",
        "\n",
        "\n",
        "inertia = 0\n",
        "for i in range(K):\n",
        "    for j in range(len(clusters[i])):\n",
        "        dis = eucledean_distance(clusters[i][j], centers[i])\n",
        "        inertia = inertia + dis\n",
        "\n",
        "print(K, inertia)\n",
        "inertia_list.append(inertia)  "
      ],
      "metadata": {
        "colab": {
          "base_uri": "https://localhost:8080/"
        },
        "id": "MAoR5HnwKLQA",
        "outputId": "8743ad56-3437-4916-84de-8f0b61e2122d"
      },
      "execution_count": null,
      "outputs": [
        {
          "output_type": "stream",
          "name": "stdout",
          "text": [
            "4 97820.90298806338\n"
          ]
        }
      ]
    },
    {
      "cell_type": "code",
      "source": [
        "#print(len(clusters))\n",
        "\n",
        "colors = ['m', 'r', 'g', 'b', 'c', 'k', 'y']\n",
        "for k in range(K):\n",
        "    x = []\n",
        "    y = []\n",
        "    for i in range(len(clusters[k])):\n",
        "        x.append(data[i][0])\n",
        "        y.append(data[i][1])\n",
        "    plt.scatter(x, y, c=colors[k], label=\"Cluster \"+str(k))\n",
        "plt.xlabel(\"x\")\n",
        "plt.ylabel(\"y\")\n",
        "plt.legend(loc='lower left')\n",
        "plt.show()"
      ],
      "metadata": {
        "colab": {
          "base_uri": "https://localhost:8080/",
          "height": 279
        },
        "id": "7VMds2POKQ-Z",
        "outputId": "cc4b5cdf-68f5-4a99-8d42-fdd77f2a4f0a"
      },
      "execution_count": null,
      "outputs": [
        {
          "output_type": "display_data",
          "data": {
            "text/plain": [
              "<Figure size 432x288 with 1 Axes>"
            ],
            "image/png": "[encoded data removed]"
          },
          "metadata": {
            "needs_background": "light"
          }
        }
      ]
    },
    {
      "cell_type": "markdown",
      "source": [
        "K = 6"
      ],
      "metadata": {
        "id": "sgUPDONkKR-k"
      }
    },
    {
      "cell_type": "code",
      "source": [
        "K = 6\n",
        "centers = []\n",
        "for k in range(K):\n",
        "    num = random.randint(0, len(data))    #randomly generating k centers\n",
        "    centers.append(data[num])\n",
        "#print(centers)\n",
        "\n",
        "clusters = []\n",
        "for i in range(K):\n",
        "    clusters.append([])   \n",
        "min_dis = 99999999 \n",
        "index = 0   \n",
        "for sample in data:\n",
        "    for i in range(K):\n",
        "        dis = eucledean_distance(sample, centers[i])\n",
        "        if dis < min_dis:\n",
        "            min_dis = dis\n",
        "            index = i\n",
        "    \n",
        "    clusters[index].append(sample)\n",
        "\n",
        "# for i in range(K):\n",
        "#     print(clusters[i])\n",
        "\n",
        "itr = 1\n",
        "shift = 1   #to initially enter the while loop, later shift is changed to 0\n",
        "flag = 0\n",
        "while(flag != 1):\n",
        "    sum_x = 0\n",
        "    sum_y = 0\n",
        "    for i in range(K):\n",
        "        if(len(clusters[i]) != 0):\n",
        "            for j in range(len(clusters[i])):\n",
        "                sum_x = sum_x + clusters[i][j][0]\n",
        "                sum_y = sum_y + clusters[i][j][1]\n",
        "\n",
        "            \n",
        "            center_x = sum_x / (len(clusters[i]))  \n",
        "            center_y = sum_y / (len(clusters[i]))\n",
        "\n",
        "            center_updated = [center_x, center_y]\n",
        "\n",
        "            centers[i] = center_updated\n",
        "\n",
        "    if itr > 1 and shift < 50:\n",
        "        break   #convergence\n",
        "\n",
        "    shift = 0\n",
        "\n",
        "    temp_clusters = []\n",
        "    for i in range(K):\n",
        "        temp_clusters.append([])   \n",
        "\n",
        "    min_dis = 99999999 \n",
        "    index = 0   \n",
        "    for sample in data:\n",
        "        for i in range(K):\n",
        "            dis = eucledean_distance(sample, centers[i])\n",
        "            if dis < min_dis:\n",
        "                min_dis = dis\n",
        "                index = i\n",
        "    \n",
        "        temp_clusters[index].append(sample)\n",
        "        \n",
        "        index_clusters = 0\n",
        "        for m in range(K):\n",
        "            for n in range(len(clusters[m])):\n",
        "                if(clusters[m][n] == sample):\n",
        "                      index_clusters = m\n",
        "        \n",
        "        if index_clusters != index:\n",
        "            shift = shift + 1\n",
        "            flag = 0\n",
        "        else:\n",
        "            flag = 1\n",
        "\n",
        "     \n",
        "    clusters = copy.deepcopy(temp_clusters)  \n",
        "    itr = itr + 1\n",
        "\n",
        "\n",
        "inertia = 0\n",
        "for i in range(K):\n",
        "    for j in range(len(clusters[i])):\n",
        "        dis = eucledean_distance(clusters[i][j], centers[i])\n",
        "        inertia = inertia + dis\n",
        "\n",
        "print(K, inertia)\n",
        "inertia_list.append(inertia)  "
      ],
      "metadata": {
        "colab": {
          "base_uri": "https://localhost:8080/"
        },
        "id": "ciPVqUa7KV73",
        "outputId": "591abf24-1446-44ef-ef97-d16a6b44f5ca"
      },
      "execution_count": null,
      "outputs": [
        {
          "output_type": "stream",
          "name": "stdout",
          "text": [
            "6 93624.58398045354\n"
          ]
        }
      ]
    },
    {
      "cell_type": "code",
      "source": [
        "#print(len(clusters))\n",
        "\n",
        "colors = ['m', 'r', 'g', 'b', 'c', 'k', 'y']\n",
        "for k in range(K):\n",
        "    x = []\n",
        "    y = []\n",
        "    for i in range(len(clusters[k])):\n",
        "        x.append(data[i][0])\n",
        "        y.append(data[i][1])\n",
        "    plt.scatter(x, y, c=colors[k], label=\"Cluster \"+str(k))\n",
        "plt.xlabel(\"x\")\n",
        "plt.ylabel(\"y\")\n",
        "plt.legend(loc='lower left')\n",
        "plt.show()"
      ],
      "metadata": {
        "colab": {
          "base_uri": "https://localhost:8080/",
          "height": 279
        },
        "id": "hRf-wqREKZGX",
        "outputId": "f3341829-e670-44fd-a7f1-c983b8e84db1"
      },
      "execution_count": null,
      "outputs": [
        {
          "output_type": "display_data",
          "data": {
            "text/plain": [
              "<Figure size 432x288 with 1 Axes>"
            ],
            "image/png": "[encoded data removed]"
          },
          "metadata": {
            "needs_background": "light"
          }
        }
      ]
    },
    {
      "cell_type": "markdown",
      "source": [
        "K = 7"
      ],
      "metadata": {
        "id": "VOqRpxwaKeb2"
      }
    },
    {
      "cell_type": "code",
      "source": [
        "K = 7\n",
        "centers = []\n",
        "for k in range(K):\n",
        "    num = random.randint(0, len(data))    #randomly generating k centers\n",
        "    centers.append(data[num])\n",
        "#print(centers)\n",
        "\n",
        "clusters = []\n",
        "for i in range(K):\n",
        "    clusters.append([])   \n",
        "min_dis = 99999999 \n",
        "index = 0   \n",
        "for sample in data:\n",
        "    for i in range(K):\n",
        "        dis = eucledean_distance(sample, centers[i])\n",
        "        if dis < min_dis:\n",
        "            min_dis = dis\n",
        "            index = i\n",
        "    \n",
        "    clusters[index].append(sample)\n",
        "\n",
        "# for i in range(K):\n",
        "#     print(clusters[i])\n",
        "\n",
        "itr = 1\n",
        "shift = 1   #to initially enter the while loop, later shift is changed to 0\n",
        "flag = 0\n",
        "while(flag != 1):\n",
        "    sum_x = 0\n",
        "    sum_y = 0\n",
        "    for i in range(K):\n",
        "        if(len(clusters[i]) != 0):\n",
        "            for j in range(len(clusters[i])):\n",
        "                sum_x = sum_x + clusters[i][j][0]\n",
        "                sum_y = sum_y + clusters[i][j][1]\n",
        "\n",
        "            \n",
        "            center_x = sum_x / (len(clusters[i]))  \n",
        "            center_y = sum_y / (len(clusters[i]))\n",
        "\n",
        "            center_updated = [center_x, center_y]\n",
        "\n",
        "            centers[i] = center_updated\n",
        "\n",
        "    if itr > 1 and shift < 50:\n",
        "        break   #convergence\n",
        "\n",
        "    shift = 0\n",
        "\n",
        "    temp_clusters = []\n",
        "    for i in range(K):\n",
        "        temp_clusters.append([])   \n",
        "\n",
        "    min_dis = 99999999 \n",
        "    index = 0   \n",
        "    for sample in data:\n",
        "        for i in range(K):\n",
        "            dis = eucledean_distance(sample, centers[i])\n",
        "            if dis < min_dis:\n",
        "                min_dis = dis\n",
        "                index = i\n",
        "    \n",
        "        temp_clusters[index].append(sample)\n",
        "        \n",
        "        index_clusters = 0\n",
        "        for m in range(K):\n",
        "            for n in range(len(clusters[m])):\n",
        "                if(clusters[m][n] == sample):\n",
        "                      index_clusters = m\n",
        "        \n",
        "        if index_clusters != index:\n",
        "            shift = shift + 1\n",
        "            flag = 0\n",
        "        else:\n",
        "            flag = 1\n",
        "\n",
        "     \n",
        "    clusters = copy.deepcopy(temp_clusters)  \n",
        "    itr = itr + 1\n",
        "\n",
        "\n",
        "inertia = 0\n",
        "for i in range(K):\n",
        "    for j in range(len(clusters[i])):\n",
        "        dis = eucledean_distance(clusters[i][j], centers[i])\n",
        "        inertia = inertia + dis\n",
        "\n",
        "print(K, inertia)\n",
        "inertia_list.append(inertia)  "
      ],
      "metadata": {
        "colab": {
          "base_uri": "https://localhost:8080/"
        },
        "id": "X-uk9P3yKdSM",
        "outputId": "e19e71d7-e19d-4fe0-86c3-a1e3714bf115"
      },
      "execution_count": null,
      "outputs": [
        {
          "output_type": "stream",
          "name": "stdout",
          "text": [
            "7 92558.49560273535\n"
          ]
        }
      ]
    },
    {
      "cell_type": "code",
      "source": [
        "#print(len(clusters))\n",
        "\n",
        "colors = ['m', 'r', 'g', 'b', 'c', 'k', 'y']\n",
        "for k in range(K):\n",
        "    x = []\n",
        "    y = []\n",
        "    for i in range(len(clusters[k])):\n",
        "        x.append(data[i][0])\n",
        "        y.append(data[i][1])\n",
        "    plt.scatter(x, y, c=colors[k], label=\"Cluster \"+str(k))\n",
        "plt.xlabel(\"x\")\n",
        "plt.ylabel(\"y\")\n",
        "plt.legend(loc='lower left')\n",
        "plt.show()"
      ],
      "metadata": {
        "colab": {
          "base_uri": "https://localhost:8080/",
          "height": 279
        },
        "id": "nXulWjg1Ki0l",
        "outputId": "9d41f940-c070-4177-cbd4-6a74ce81106c"
      },
      "execution_count": null,
      "outputs": [
        {
          "output_type": "display_data",
          "data": {
            "text/plain": [
              "<Figure size 432x288 with 1 Axes>"
            ],
            "image/png": "[encoded data removed]"
          },
          "metadata": {
            "needs_background": "light"
          }
        }
      ]
    },
    {
      "cell_type": "code",
      "source": [
        "# import pandas as pd\n",
        "# from sklearn.cluster import KMeans"
      ],
      "metadata": {
        "id": "OloRM2jtSatT"
      },
      "execution_count": null,
      "outputs": []
    },
    {
      "cell_type": "code",
      "source": [
        "# km = KMeans(n_clusters=2, init='random')\n",
        "# km.fit(my_data)"
      ],
      "metadata": {
        "colab": {
          "base_uri": "https://localhost:8080/"
        },
        "id": "tJwwBmH5SdOh",
        "outputId": "dd98d0aa-ae61-40ad-f3eb-5fff7871596f"
      },
      "execution_count": null,
      "outputs": [
        {
          "output_type": "execute_result",
          "data": {
            "text/plain": [
              "KMeans(init='random', n_clusters=2)"
            ]
          },
          "metadata": {},
          "execution_count": 13
        }
      ]
    },
    {
      "cell_type": "code",
      "source": [
        "# prediction = km.predict(my_data)"
      ],
      "metadata": {
        "id": "kCAv7XHrSfOw"
      },
      "execution_count": null,
      "outputs": []
    },
    {
      "cell_type": "code",
      "source": [
        "# prediction"
      ],
      "metadata": {
        "colab": {
          "base_uri": "https://localhost:8080/"
        },
        "id": "AZwFgOgUSlf4",
        "outputId": "1230dd53-d3f3-47ec-8fb0-867978a3d2d9"
      },
      "execution_count": null,
      "outputs": [
        {
          "output_type": "execute_result",
          "data": {
            "text/plain": [
              "array([0, 0, 0, ..., 0, 0, 0], dtype=int32)"
            ]
          },
          "metadata": {},
          "execution_count": 15
        }
      ]
    },
    {
      "cell_type": "code",
      "source": [
        "# train_plot = pd.DataFrame(my_data)\n",
        "# train_plot['cluster_index'] = pd.Series(prediction)\n",
        "# train_plot.plot.scatter(x=0, y=1, c='cluster_index', colormap='jet')"
      ],
      "metadata": {
        "id": "6rx1O9HLSouL"
      },
      "execution_count": null,
      "outputs": []
    },
    {
      "cell_type": "code",
      "source": [
        "# import matplotlib.pyplot as plt\n",
        "# cost = []\n",
        "\n",
        "# K = range(1,10)\n",
        "# for k in K:\n",
        "#     kmeanModel = KMeans(n_clusters=k)\n",
        "#     kmeanModel.fit(my_data)\n",
        "#     cost.append(kmeanModel.inertia_)\n",
        "\n",
        "# print(cost)\n",
        "# plt.plot(K, cost)\n",
        "# plt.title('The Elbow Method')\n",
        "# plt.show()"
      ],
      "metadata": {
        "colab": {
          "base_uri": "https://localhost:8080/",
          "height": 298
        },
        "id": "nbXVOS8ASq-S",
        "outputId": "54c8fcf8-4579-4cc6-b94f-65ffd5289b28"
      },
      "execution_count": null,
      "outputs": [
        {
          "output_type": "stream",
          "name": "stdout",
          "text": [
            "[4881827.715322591, 1860828.3048688164, 905422.1829371476, 411576.1696791684, 344808.7680396233, 287558.6770434811, 235340.54228102154, 211348.4782941885, 190839.36656125291]\n"
          ]
        },
        {
          "output_type": "display_data",
          "data": {
            "text/plain": [
              "<Figure size 432x288 with 1 Axes>"
            ],
            "image/png": "[encoded data removed]"
          },
          "metadata": {
            "needs_background": "light"
          }
        }
      ]
    },
    {
      "cell_type": "markdown",
      "source": [
        "Rough (Not part of the algorithm)"
      ],
      "metadata": {
        "id": "_zX9cjtEe4jr"
      }
    },
    {
      "cell_type": "code",
      "source": [
        "# import random\n",
        "# for i in range(4):\n",
        "#     num = random.randint(0,100)\n",
        "#     print(num)\n",
        "\n",
        "\n",
        "# import random\n",
        "# data = my_data.tolist()\n",
        "\n",
        "# K = 4\n",
        "# centers = []\n",
        "# for k in range(K):\n",
        "#     num = random.randint(0, len(data))    #randomly generating k centers\n",
        "#     centers.append(data[num])\n",
        "# #print(centers)\n",
        "\n",
        "# clusters = [[]]\n",
        "# for i in range(K):\n",
        "#     clusters.append([])\n",
        "# #min_dis = 99999999    \n",
        "# index = 0\n",
        "# distance = []\n",
        "# for sample in data:\n",
        "#     for i in range(K):\n",
        "#         dis = eucledean_distance(sample, centers[i])\n",
        "#         distance.append(dis)\n",
        "    \n",
        "#     min_dis = distance[0]\n",
        "#     for i in range(len(distance)):\n",
        "#         if distance[0] < min_dis:\n",
        "#             min_dis = distance[0]\n",
        "#             index = i\n",
        "\n",
        "#     clusters[index].append(sample)\n",
        "\n",
        "# for i in range(4):\n",
        "#     print(clusters[i])\n",
        "\n",
        "\n",
        "\n",
        "# import copy\n",
        "# a = [[2, 3, 4], 5]\n",
        "# b = [2,3,4]\n",
        "\n",
        "# b = copy.deepcopy(a)\n",
        "\n",
        "# print(b)\n",
        "# x = []\n",
        "# y = []\n",
        "\n",
        "# for i in range(len(data)):\n",
        "#     x.append(data[i][0])\n",
        "\n",
        "# print(x)"
      ],
      "metadata": {
        "colab": {
          "base_uri": "https://localhost:8080/"
        },
        "id": "A4mPphWzesjW",
        "outputId": "d6136d63-d472-4049-bfc9-086e756be384"
      },
      "execution_count": null,
      "outputs": [
        {
          "output_type": "stream",
          "name": "stdout",
          "text": [
            "[54.238280819288015, 60.333169276317186, 60.660036867311035, 62.205018765018735, 59.909799446664515, 59.26919529007787, 61.837889688210325, 61.86673805850675, 60.40539239559364, 61.86148319080176, 57.48483006858246, 61.48063064745511, 61.306221830451356, 58.29039023160536, 61.35499929861957, 60.772586978305725, 59.18427064999664, 63.077314373034625, 57.534124512526546, 59.78728149594838, 61.4109731940858, 58.33713393531121, 61.47767723666342, 59.57372092059655, 61.63950831456118, 58.81892114935851, 57.64743782484228, 62.70000730423109, 58.39432029388037, 61.149592515655, 58.86912324401232, 56.19920506569447, 59.80865248014036, 56.97476600748972, 56.10487519854004, 60.16935099687642, 63.60442433893626, 57.283722419431164, 59.50137322406355, 56.134941293057295, 59.57052581200397, 64.15445837903755, 61.53427008636052, 60.476251133334294, 59.139464666499144, 56.65972369018472, 59.6139991881865, 59.19601339676009, 60.70595025339163, 56.96660637122999, 60.14117013323735, 58.259710009323975, 58.61407191279196, 63.1212293165935, 58.95253115655538, 58.06945075652955, 60.46449641602559, 60.34726868964256, 58.176715072749715, 54.93898586130523, 59.57775947451368, 57.638584978072004, 60.971285285431826, 57.91545130091456, 57.71882434696957, 59.010980327740626, 60.94605431356091, 63.06690180817929, 64.48779339826757, 59.39031795544361, 59.61465201741597, 60.48745322227345, 61.81862628825089, 61.85628191310528, 57.887803381237916, 61.22065474719053, 61.97251945722295, 60.854637321537766, 57.46455365359517, 58.41969815186944, 59.44071757447765, 61.680001222445014, 62.269596777854076, 58.45561176106251, 60.32261762925583, 58.99799851512675, 63.16355063486466, 57.11464261305116, 60.063317745782605, 56.825385363265895, 60.040267600420876, 60.651712375830286, 61.45899474825285, 60.06115280938973, 60.107696115006675, 58.92343021357199, 59.26346793791919, 62.54552528807896, 57.88819454981195, 58.2622929551041, 59.43959564797116, 60.930279185690544, 64.7399300909302, 59.00168910928091, 59.41371286691942, 63.90412002487457, 57.85734108448128, 62.10072016457505, 62.37799834408864, 58.96457006808911, 59.99823055488977, 58.865886091593836, 58.919410987066954, 59.098310282991065, 57.776170906377864, 59.58426322743862, 63.04834483081393, 61.12100626079135, 60.104584990892526, 60.94346396059234, 63.006707907982, 58.2843695259964, 59.41359306926758, 58.26153712344205, 61.28244947548958, 62.94745282182133, 60.51625844137695, 59.35118261257661, 58.81363228362725, 62.438838127919475, 60.46351751350233, 58.17204022636134, 58.62376503959893, 57.74434003159476, 56.215582302556456, 60.705210603945034, 61.43781298036838, 56.755670347304246, 60.769662754653616, 54.667997397374904, 60.43269669117787, 59.32528497531019, 58.4906693873809, 59.686274181938046, 56.835917373182056, 61.508973019309074, 61.57288346864966, 58.953027721835554, 63.97035062048377, 59.126868891614926, 57.052251719734485, 60.60704015768471, 58.6029679969402, 58.3169792465061, 60.896798076364675, 57.373113190919916, 58.756863813657404, 64.0809994972713, 58.067311162401616, 59.20725429730106, 61.70335569571691, 62.62788667976283, 58.094247537913574, 61.53508085620175, 59.33392215716412, 56.83099803427858, 61.621845540774075, 63.59054110619923, 62.12599064600231, 59.73840493851049, 61.96965054967224, 62.47668415459303, 59.546610770710515, 62.29225559082386, 59.291291955072666, 61.83780685005421, 59.83603494975226, 60.625969150452605, 58.64038438744647, 58.348245762384195, 55.89055930373841, 63.28910473829755, 60.640680499490195, 60.832225875825216, 61.194371550168825, 59.26196735367703, 57.80492820155557, 60.72942625252997, 61.26137837338999, 59.8494528999893, 60.545139893255126, 62.19407702965894, 64.73673225494933, 62.39978284802917, 60.691206598663705, 58.198330647455904, 62.36623924244168, 59.2010505107856, 61.73061035691056, 61.27152162825052, 57.15294473522957, 57.53845990138886, 60.2330375750118, 56.741359430564934, 60.560738169533344, 61.18696006014518, 60.13496315227646, 58.93741608082237, 62.617894605020396, 57.04692129114826, 62.647586703717565, 57.66441983587454, 57.12323239571469, 65.04637364915448, 61.38820004176156, 60.234819496832564, 63.29105984211823, 59.74767724113351, 64.09753788769817, 62.5835520054066, 61.2430148161168, 60.347702239531074, 59.89356188235938, 59.28678708089365, 59.49198837055069, 57.964028409403205, 58.82185369330326, 59.26291224305511, 63.013510481908256, 59.226966476517774, 56.582391974016204, 59.90228375596845, 56.974380597736186, 55.88991684556302, 61.26297644805406, 59.351222816613394, 60.23880784671698, 61.740531650816216, 61.570462529721034, 59.446862106232665, 62.081639612930964, 60.885312933430036, 63.423736146491805, 61.39699440843241, 61.899805039764644, 58.328521403359765, 56.693086448786964, 56.17050880386073, 58.934648576049725, 61.54444114599423, 58.035990568936995, 59.900647060943605, 59.11434046194494, 61.65372571566393, 59.074547030102494, 59.56734801863997, 62.053100026286465, 62.7977978260821, 59.63765547041867, 58.74883576232274, 63.430557533838645, 61.7483681655833, 58.31149838135762, 60.29098697523784, 60.26832364969074, 60.031845853220325, 60.425954955188665, 58.88963046095311, 58.765393677748335, 62.3981844489959, 60.866825949789195, 61.48051631315423, 59.35356996808213, 61.27898979828238, 59.258702537632935, 59.16988107227177, 58.25054859144281, 58.80436951522276, 60.524813855648496, 62.57605784299486, 60.460915912162186, 62.27695540217218, 56.76701662860804, 60.8837142698472, 59.11353091819508, 61.066609687945004, 57.735613501734356, 57.87441197444319, 62.193152056861344, 59.24427077809214, 61.207902780395095, 59.707164372063296, 61.61345553240516, 60.55488162735064, 61.29805447180135, 58.6468315682633, 61.91097538151085, 60.99366929051898, 60.58210886606747, 61.10950315243382, 60.00450540527405, 57.362293761435225, 58.65145511229091, 60.60303389286929, 64.15897379135679, 58.77741554494485, 58.47822796020848, 60.85041929402863, 61.199871310221624, 59.319367544182064, 56.709781396551286, 58.79733562121542, 58.78920451944534, 57.59421037621407, 59.05507503171993, 58.09813267653231, 59.645697769513646, 60.47127255804516, 59.44504864670009, 58.632976013760945, 60.15855558207618, 58.227349185279564, 55.051693603959244, 57.84163286125714, 58.407900251371494, 59.85854199078524, 54.98039555190749, 58.618264608783555, 56.920938402267716, 62.43950499388763, 63.23340564780297, 60.719479121856665, 58.139611429715494, 67.47835566794797, 59.95530041496184, 59.78016600431102, 57.8047251281881, 58.95530258340737, 59.685227631846985, 58.409168642635464, 57.09990219883762, 59.73757855487256, 63.96985265063528, 57.151596053203264, 60.19229026460761, 61.41565993856069, 63.48211979958659, 61.76399319380381, 60.26800646046972, 60.76095491828027, 62.575033382895974, 59.50448832259765, 59.852930088318395, 60.40461547066649, 59.3221395719853, 57.972368306613774, 60.81571024787416, 61.37861233665813, 61.65233236911674, 61.33252442753206, 66.24757346292536, 62.292147701647714, 60.60859081537714, 61.38457601036737, 56.26822757540881, 62.394065449393224, 59.15874541963882, 58.95666303329245, 58.4566789374061, 61.40354970223674, 56.78473528310131, 61.08796512867408, 55.73987423732094, 62.33105425390522, 58.352207538910974, 59.49801199968812, 60.63091477986855, 59.401288364845854, 64.33299677498927, 60.53527860340192, 58.40881906284616, 61.69276734623521, 58.496205704072345, 63.38725900629449, 56.69483720238099, 60.795205833133195, 61.824236904599594, 58.31157362555403, 60.79714001479473, 57.174742815343144, 60.20728545529484, 60.38257519884804, 62.809680225042804, 62.2263378269609, 59.16411383743613, 56.81699962565489, 58.1478040744105, 61.69742614319716, 57.423600547865625, 58.90754697823134, 58.4650955629241, 61.088503995245006, 59.90804505525289, 56.61740118387075, 60.52504466306897, 61.114423084212206, 59.83380187894464, 57.81089071928769, 58.98629541314678, 59.14882062877821, 59.08985342562648, 59.168069945875885, 61.97968662370912, 61.43063879183128, 60.00332401015337, 61.62488552757142, 62.370426977095676, 59.68054172658658, 61.20231425608499, 58.95521647178337, 61.88428369369245, 61.52153339089, 60.73519761137403, 65.34407519265301, 61.520635663474366, 60.96842054781301, 62.06188562605406, 59.048892360512255, 58.01998024401449, 63.49171018075078, 58.514835975029, 59.247292453511605, 61.803216001637104, 62.101665099785954, 59.348372861854735, 61.117537448720746, 61.613519582839274, 60.74102936313255, 58.42953800201623, 62.66395195709013, 59.82301587746598, 63.73295185583653, 61.41898010453501, 57.5277742256822, 59.57505309716159, 61.449381873937405, 58.59753304350312, 58.66439692687243, 58.60828102304556, 60.23283293062409, 58.120757188168014, 59.28295478188491, 61.19460518001411, 57.52928490902199, 58.94476914179407, 61.97783726081886, 59.394393732498926, 59.03042591746754, 55.89558704649606, 62.2047398118947, 58.223007601335496, 62.04466706554802, 60.0728448349598, 62.59068829243879, 58.53099338658102, 59.764077170323596, 60.85398850533754, 57.943704694930894, 61.74744079796886, 64.18805126039331, 57.34464404409322, 57.34199280075684, 59.92865206888043, 59.42808280482379, 60.22116619745699, 57.374673516360325, 55.22888070452893, 62.6145915818043, 59.09630424943714, 60.57011683706482, 61.515163084244634, 60.46527596471445, 56.489918831499, 57.36459591440449, 63.66105604074025, 58.94320805643742, 60.649838863039356, 62.43901880812665, 57.49115110914711, 58.64503936708258, 58.351512561253614, 60.96847821664642, 59.48281634572481, 59.601139016968446, 63.76471159625853, 61.01798881878009, 57.76100793740849, 58.11916046363733, 63.574418354780434, 60.17560309840082, -13.71482676717938, -44.29261631032614, -26.62906122946805, -12.984636973211543, -38.46642686062288, -2.2372930353048943, -2.0480699568117977, -5.254137448109333, -17.538176702355056, -10.050404071174551, -3.1769117926733816, -0.6842442709651504, -44.078868081277534, -24.247356785465623, -7.304360986852738, -9.270096157967739, -40.82737910341105, -6.864424217081066, -25.81126215091281, -25.775665359750334, -15.613848712494924, -20.48962207229122, -6.007380542845526, 5.882451407481465, 0.28249273259831575, 16.58580569415526, -27.002727865027218, -18.885115649381824, -20.265610494651234, -23.427784757939477, 15.343655437841296, -13.951232882480696, -35.93310628200237, -32.400880793002734, -0.7599553300784727, -32.180005386041294, -21.936680629186533, -21.797135181111724, -38.41494349543666, -15.424622136004649, 6.6129288736442255, -6.626029807170417, -18.378067134421922, 2.9017880772718883, -13.856304839146054, -21.07449379690446, -15.229762965685874, 9.94510975401198, -10.321037862328588, 14.997507689365655, -37.997782539000006, -2.776404450967675, -19.24950925385845, -30.5574979953915, -22.483552218417113, -14.885403355985435, -9.883482558148746, -41.10072319814176, -1.3160739101777956, -4.030278514761314, -33.11500448043703, -10.738264621180514, -25.94566596321271, -36.26379795425044, -16.34898803144905, -14.225109695079157, -38.75556093861404, -8.375726775037744, 12.566786113577699, -16.322657901674376, -15.818023971644543, -44.690493946666294, -17.170669431379547, -32.813206938858, -18.198289272175174, -15.767829341219587, -12.542740622294234, -37.70368624278452, -33.53757696720862, -36.30807158150913, -3.0569277799399686, -30.628566787702503, -2.469610389422911, -47.46820609434416, -23.79138601932506, -18.307549781372245, -8.963135401179928, -19.994988172786073, -17.79489495652752, -33.77708205218389, -33.313635735435724, -9.399672699903407, -24.515851321727354, -2.658016429245304, 8.2290274917554, -10.203278528111575, -15.947816946716358, -4.247913134667568, -30.46922986870918, 0.1344146289117596, -24.9887243066295, -17.322001047934723, -22.304420857200142, -9.019738341308788, -32.290323770545236, -27.841573074532867, -10.6601800066376, -4.345150118017774, -30.392454240413798, 4.811451781061244, -2.608026698911006, -15.738274243264115, -28.403271703145197, -16.959703266587873, -12.118319873843681, -2.677917166783942, -4.72996432393502, -23.12727516152787, -34.35128775339581, -19.0126658369381, -6.777283223166695, -4.7848061851565475, -30.600318883480078, -16.157798858670912, -28.802125037093177, -6.03447565955608, -3.2877271262140937, -17.69382309017442, -10.164642676443297, 22.415208260351392, 12.182131205690336, -8.661404383581058, -10.801507896181414, 4.380530081149072, -34.73408617749458, -4.207730214516168, 9.919099730292974, -4.364570637740707, -16.551479407688777, -8.69287021608024, -7.38524986486781, -0.0807346414403316, -1.9419840419492687, -25.656062591507958, 5.228230401644041, -1.9861442909150249, -27.816303616184182, -23.751663633278227, -26.83533180598577, -25.391515197280242, -12.028871258200398, -10.66777143877554, 4.711444048509097, -11.676807292498358, -4.502127053081713, -16.637447952800947, 4.401499510651689, -27.999210353731854, -44.482835309006134, -37.714205785442516, -24.299113109045898, -6.523176992188889, -24.730063537149885, -13.8414216532116, -12.780122941883036, -20.431970753685754, -36.095893164475, -59.66516437584033, -10.435206680213328, -16.605649953225914, -28.314988703449497, -18.878810452752877, -35.04631078069991, -11.096218609510041, -20.42031980002252, -23.758397571487386, -41.59636759844651, -35.322902158890116, -64.3200190351032, -20.003596120812976, -22.5627524436894, -7.6009843139357525, -45.610235298009584, -1.25962544104984, -7.763914278681048, 2.7613687078700693, -2.887109960651136, -11.615632103251174, -18.702337259820304, -9.322707966439598, -12.28101170081904, -13.891503067572405, -8.14167656602498, -23.827358865561575, -11.639687310134644, -18.862361340698246, 13.97926201853059, -13.794248907986692, -27.74293220777201, -48.779553969095886, -34.12051307160304, -25.342440609855874, -22.29536366144264, -18.968616406248007, -34.365926692030385, -37.51399415607163, -15.826487621447471, -13.911520502151856, -34.49400611107993, -2.0289679095520867, -6.8019248907482, -11.137265045747442, -25.567574288246355, 0.4863742253466743, -5.927222538648399, -18.521388038506338, -0.9117326392648213, -51.91933222852887, 3.4276641841219764, -32.02860600299342, -7.408323153845608, 7.256195351706545, 6.326432555470625, -2.3218370898451326, -4.734670201455755, -22.87519934260981, -17.7080405672358, -14.825479940454281, -7.115705195002825, -40.17453094718449, -23.27634414775035, -14.826137619903541, -22.927344523867745, -33.13052711446258, -30.149420710497733, -24.071989523916017, 4.506418427161634, -44.11633292343293, -31.961700639758973, 25.625703284792927, -5.92022291602431, -32.39944680600159, -19.795232629662326, -37.4140031106253, -14.382961472639622, -41.34705536969709, -24.802920719199136, -23.97875483530401, -21.045157064403753, -37.54355165401601, -5.566869880631881, -5.599952643152262, -22.645907639890908, -19.38135235136374, -7.549592977526385, -41.675368993980385, -23.423263265115608, -17.56145030625769, -4.537675385709532, -18.703114581528272, -15.321560940396726, -29.05153007194344, -23.755561334418182, -16.986977810272876, -18.289444741468063, 12.810775894890167, -23.10282792990732, -8.606292625929512, -31.3023824104723, 7.97271788448105, -3.527533113422237, -1.3379534641435864, -37.53489302061976, -28.51442359928975, -6.531154444088514, -17.41409848793101, -21.575518377165395, -11.381369429423414, 13.543994617870393, -58.14221278899461, -13.923927068875404, -44.893231567250126, -40.60491749801606, -10.600304131109121, -8.531280562028936, -8.189928194505477, -25.863572358109153, -23.706175029561617, -0.41392089005379873, -17.605241486773892, 14.924255815561551, -9.589699974424384, -22.22579332513824, -35.485339609059, -5.40939037119821, -22.59955625354993, -11.983819636884151, -24.910136974211817, -20.950943616705523, -13.123086999659181, -20.476614440714236, -8.282515232646873, -17.595834321056497, -10.505476764093931, -42.530238387944046, -13.34888895394908, -28.595683273351195, -0.40941827952229914, -17.971558552178678, -12.280205520384607, 13.268525639714312, -15.110908592736678, 5.992851781894359, -35.485273325333324, -12.538763361057114, -15.99301567905161, -26.44873681459368, -36.383123349062686, -21.077793921160676, -0.17715212231139255, -31.118932325571482, -21.632681338548377, -0.15253682051283945, 7.006017791629457, -9.55553786946804, -36.17194772605991, -7.6331486742215775, 8.397370299745557, -44.52926491518092, -26.057086728480026, -10.884995507820605, -24.882837738511302, -35.812148304635286, -12.393456438428853, -14.85964411686977, -13.096507766405258, -7.462664685087125, -18.90035879090102, -40.727566931050696, -32.97106644287922, -16.1159676932868, -14.903072346212344, -23.303156659139226, -13.651633886931794, -14.499657677045361, -27.548765228439542, -11.423211456335338, -17.84630865696502, -14.386924054527011, -3.9687192913174165, -9.600409890937701, -6.594260249236497, -30.003612562180695, -14.050879284140386, -10.959332477205527, -23.597025750148617, -7.563007478040397, -19.872738001397348, -13.965206383556229, -9.151918636635639, -18.2115871382391, -40.628079713054646, -25.920936040695047, -14.915942774711208, 3.5906548013084425, -6.41407509723221, -24.184614657671524, -19.018230098663032, -36.356665971030516, -30.287170912593396, 2.7628115024920845, 15.730739584365104, -14.96753351764789, -10.123150900460658, -3.8388056594130813, 4.508728633073453, 18.641229399109406, -15.626818896993221, -6.438499461117107, -15.108372809831407, -8.946184520762312, -4.988002375221136, -10.493264003300105, 1.8754739929463398, -15.236281458916991, 10.036529032924435, -40.66699265725197, 17.01699265675297, -15.786290321699747, -6.222687935133932, -11.840611969908363, -20.677354209781523, -17.144971669343043, -11.582606080123082, -12.656724456236294, -12.733709725498542, -17.25362425186772, -16.68271236873196, -35.087499369500364, -46.224311296989555, -55.85610351492212, -32.54315798475726, -48.25748322293522, -46.92124474149865, -51.54979357621075, -52.79521051631893, -49.41653641958755, -46.48674054427684, -61.522093577239545, -48.81644521404059, -47.831551730715084, -59.51892194778226, -39.700046299951524, -36.396756405682744, -32.4628966495892, -43.6925291294082, -50.711050692929724, -51.024820054121825, -69.79628524591266, -44.364494795024626, -54.918029412793814, -63.020987404331805, -59.80591309509219, -33.60999809859656, -39.447289046767324, -43.89408336440489, -61.193261639782115, -44.46652006066425, -49.81987224732013, -51.463824926801095, -51.40750459016982, -55.04079456866368, -46.83316413138181, -43.94576940817121, -40.728024366597104, -62.58365551753624, -40.21232253225803, -44.574557878946194, -50.27295427321921, -59.99401460295681, -45.559517430203265, -46.41834299049925, -50.17490164053573, -67.62859282028613, -35.83820522033536, -38.84248896238305, -47.16971296556772, -41.720608291554754, -55.95454276918747, -46.05793367286847, -32.51195672686217, -34.46982368896592, -47.00919188373139, -42.54876904923878, -57.96181413892815, -64.84196584526941, -45.00300197399855, -47.85088353506246, -42.46580166673692, -36.96920411295295, -33.14547240604408, -62.70448826421966, -50.38724660194029, -45.51674573317875, -57.46889021875218, -37.71175356330832, -32.373904199408926, -33.27716338846099, -44.41259569310082, -47.663694853561374, -40.27692654272237, -44.15920133754076, -70.38746419990446, -40.95127744636011, -53.528621926446185, -51.84324296696503, -45.21315692138229, -35.218315446555344, -51.84325157301536, -43.591014744044806, -60.960968114537735, -38.5102257542639, -44.524448795719344, -40.13857827902152, -73.5044261046, -39.741472591467826, -54.30116159022888, -43.62472539553188, -42.14530408724415, -59.327762425907196, -58.95926616818437, -29.993376258783368, -47.47122274438348, -47.08008819897987, -30.021463121919826, -59.08656729987502, -29.566030820827645, -47.50335825435419, -48.349513419594075, -50.16799761192948, -38.02233794167157, -31.921710719606093, -35.59796661719388, -32.49336804724775, -58.15704020712191, -49.73443687163243, -41.87357916825289, -63.11889900369404, -66.63314561174286, -32.0782010814461, -50.584959913383486, -53.549655728780294, -32.738439118085616, -58.936752840743466, -44.577118018323446, -44.256802724262016, -45.66181595074217, -41.57612539011479, -47.736923260136095, -72.14591210258749, -59.7387979033943, -48.30773173670496, -37.34965295397764, -55.82050130953259, -59.45068318703004, -44.54984087947376, -39.33125546883862, -52.165791209203974, -55.924168914314144, -52.39097232609121, -55.64234276164835, -51.12848560268279, -58.6702991760037, -48.856002630406, -50.462908064319, -49.97670488537015, -45.962559576179785, -69.43588956838241, -47.96782496945441, -55.2571997582394, -58.306819068365854, -47.29116350108819, -52.153131340273745, -48.02331634800832, -69.98607141189561, -46.29279640525167, -51.19892702194951, -66.58837601555453, -61.54523713285479, -55.20274750059786, -61.74950118328984, -43.21271344685327, -29.946549565439625, -54.96754187513926, -51.350814971893456, -56.07735072230406, -38.122128844710545, -62.98313257365455, -49.386029909773534, -65.76418328696766, -26.89927223354737, -36.117337470333425, -44.71027233873673, -17.559937815334976, -55.47372391727063, -44.596932967544355, -50.88448465067127, -34.514670391204454, -55.19614829729001, -55.97390596430903, -55.431828560066116, -35.33914753455557, -47.81420252443587, -57.71311451518487, -42.60465445960598, -65.34004183299677, -55.76389217652881, -55.00760297996675, -62.92085940371962, -60.50804862579776, -28.373691039848737, -58.56215118840161, -34.44137985213775, -39.45913612114263, -60.80763459543206, -49.869628244139754, -42.17622962753903, -34.68093869241703, -51.83546197672069, -58.220792530973455, -73.14541279803598, -52.15205390528867, -49.79841495683948, -23.59320533188825, -38.50442925164481, -50.86121143046005, -48.48977805313165, -36.41174370332152, -61.3435569969455, -53.07589344040899, -31.928813758032707, -71.44026374071592, -54.904381504816676, -41.886653024640715, -51.12147970008941, -40.031214388818654, -30.95386145013494, -40.91656978306728, -52.65840985287363, -33.82820962942594, -58.538638016212616, -44.889573240235435, -41.20130616489147, -49.59065729640655, -53.73599402013805, -45.64153431309727, -55.58015418709796, -60.38365011101938, -51.239075719990936, -47.10681038900542, -34.7108868617073, -51.11556066856504, -53.92560674508865, -45.19077307141212, -44.240774489968025, -54.61415361625787, -59.201461773313895, -42.663094358168195, -29.976027124824476, -39.49496313303095, -56.10600166198747, -59.051275169622656, -55.289313261597954, -39.96938939010095, -53.03907865082835, -66.20749432809433, -47.55553964707272, -49.5400567718588, -40.42821100680151, -68.43470507368927, -59.67944681950342, -49.47743213661203, -45.308140322627935, -49.0414484138022, -48.4336856379797, -54.51466081740721, -60.196237005463324, -52.90499356797369, -66.05156779583535, -49.936418660439564, -43.69161063681406, -49.09862030765489, -49.4434970104239, -63.850210156043715, -27.40861930218535, -27.90130338483783, -47.36938904609582, -54.444262423412056, -59.497938674899075, -48.05902372079577, -58.3876523686141, -76.7156277343363, -59.78379395997294, -63.61803554066695, -50.023700439389565, -49.72109812888382, -58.06334239456349, -49.99633055601017, -37.286615176449864, -57.32438977239481, -35.32079262851516, -33.289365245196464, -49.263941890359746, -14.52528258786947, -43.067384757534505, -36.64779353916681, -46.328728538685326, -32.35206577903051, -50.712012388126055, -60.26286357439247, -59.99604063962286, -69.42318090706713, -40.97768441536431, -47.59256691311525, -45.876872377738096, -68.64797558882643, -48.031800981679574, -48.84000124560618, -44.34738267290626, -52.311224244074914, -38.955724374315125, -54.71572338361038, -47.265239993143425, -48.47453731297905, -41.164731004037215, -59.28637408781648, -60.115760820643885, -64.14182960760122, -52.55235389013794, -57.73350680339303, -56.876319213967435, -44.35250071664732, -53.94029749808904, -65.94450929094114, -53.43497077624415, -59.1143719736262, -47.405649438495345, -45.74716082504408, -40.90166596945504, -50.40529878382042, -47.29633852532643, -40.23040911040307, -53.067665574106485, -60.509393083503795, -60.53883894299192, -55.34076210801041, -54.38621655056625, -49.23854117892682, -43.184491788101454, -44.78432190264174, -46.30446211563282, -59.31720075071627, -49.50584029807156, -22.178898111862956, -62.22173447415549, -57.96032319227357, -44.65011284389912, -45.907509321445815, -68.58283396335362, -55.30783051725581, -59.01963187065497, -58.80099675783267, -37.010713142480625, -32.669092081614195, -60.429107866215546, -65.17314211134158, -33.405391212888084, -46.73093053127728, -38.86098040499267, -46.980773440272316, -55.090319638901775, -49.15861043410123, -59.797322134984576, -35.75234802448844, -58.123794440077674, -34.96350360380282, -47.45488766009872, -57.20558624071691, -43.53697775896256, -53.746091120409275, 1.1743482956512885, 18.40546786609753, 24.990009388082758, -6.702199079030844, 43.82185695438767, 54.14329274819609, 5.901834151631503, 58.16857435523589, 13.82746545074415, 38.74302889491424, 26.23074733251592, 38.937020908347904, 30.383914538048636, 35.889064157042114, 11.40353752449198, 36.966412952026985, 33.26349386458263, 8.312274400125268, 9.255118872479958, 27.854268470661, 20.798177043977585, 34.178771489583944, 22.929940772065578, 43.46494600849304, 4.3137063347271205, 32.763501144791604, 40.289415729901926, 19.40760970842123, 37.85349470811074, 40.20758402689061, 4.820533328248182, 24.344757152450924, 2.264127401436358, 16.97155085664987, 16.15183046222168, 38.65063307772482, 25.75014326393967, 20.579362644570217, 28.236284152583313, 8.22602453517582, 29.89976427901899, 2.3585618055551087, 15.951598306841861, -7.591126817302303, 42.67633616075117, 24.374254230366994, 35.18284107349714, 39.536319525538204, 17.998886642741805, 31.178859330703407, 61.7668202919527, 33.00813844872793, 10.77197042294583, 18.661749228803984, 16.00465556402113, 36.723810000750696, 8.708066497547186, 13.536755666398943, -1.9334479895727021, -5.634186608300553, 15.471727842859508, 23.63793939706983, 23.668379459383335, 13.471603075137203, 11.986812600354533, 21.383899079008955, 19.181132008453936, 64.63494680207447, -22.865367440460794, 15.171656943801963, 24.90317016680373, 30.9395114620944, 29.7331866444652, -7.682800391215316, 20.96524089308912, 10.02924855369892, 12.597106291733697, 48.37794770127002, 25.826174267536516, 14.9132374132639, 40.46226673924877, -0.16312978234421394, 26.399297223616188, 25.731574636429926, 8.963217283463916, 11.392669596599058, 33.97147146966974, 29.669371443479648, 39.38822409843672, 30.550190841135517, 20.266345455463334, 30.807978965131447, 37.029634677084275, 32.39086809336298, 42.38242093189256, 23.083504121627108, 21.833979196461325, 16.543486982154153, 13.272512665165749, 10.577469616116597, 18.996952704608134, 35.3845868708504, 12.007834334311124, 19.569543762173208, 20.793306783169687, 23.745814437531507, 25.592022288837452, 19.854344527352225, 35.42913759445703, 21.240971409171262, 29.685783791397704, 18.568940881785082, 19.247961675109277, 7.094246729017389, 10.299376432783802, 10.784180229342608, 4.1395741626952365, 2.1297151685799456, 26.45365685562988, -6.693766109573396, 5.079501637950488, 25.38533927825739, 27.888858191243777, 27.09106985028755, 12.69897937656567, 6.437701941320283, 22.718710480679764, 8.161914403180681, 26.26277530198112, 24.323277917651524, 8.003051924102278, 23.22400891558874, -3.909176052080312, 21.209256988271783, 23.773316504675915, 13.724855043886674, 38.380787340970166, 36.07048349696971, 48.68449067975996, 38.85887172794101, 19.188539637688685, 15.936805968080996, 18.9444806486087, 7.089336333494405, 22.778630428250835, -5.2112214397928085, 5.06481978586417, 19.23209921161348, 37.47795009902916, 14.315846761862268, 8.405367489256225, 32.58555325896613, 13.743980292096676, 37.663494013864295, 26.383008343915353, -4.562233293953703, 14.410317907106604, 12.905375453379584, 27.490969675972035, -1.8385758836708597, 38.408749782878466, 14.464497696136833, 48.119266072518926, 8.165025391009715, -0.837933791090137, 9.49675502115456, 24.288996958080787, 40.20459416000806, 20.7255713193353, 37.430326223979215, 19.631439763408714, 4.336800886150256, 24.064424154337992, 6.9944650188989534, 6.577408993900088, 23.985181385687856, 3.323762079540586, 37.095251235327694, 14.717230562767552, 26.6072163188063, -7.096777814965236, 34.77418041841054, 6.302599319209545, 26.710110469113896, 27.38166135722962, 24.074326771031195, 17.904640507483734, 27.74219474536239, 40.45817515281046, 11.313533671992928, 6.88932038294112, 23.116352714835113, 24.648552785122394, 7.188565770976103, 31.970234515752814, 22.17838940663961, 2.507474293082801, 28.79070378625066, 25.849197861938553, 40.59541610967959, 9.914290241806967, 2.9786402796432725, 23.671464693793073, 54.64981388636683, 34.79966466500809, 45.10732973502192, 48.24908616591017, 16.37053773541531, 12.051701229125662, 17.26761227689416, -2.7846411410950367, -18.77690619936812, 21.216573738015345, 19.755867250632388, 27.83894959861656, -0.9598702141603894, 48.95846992945647, 5.63349153271062, 55.288817028605365, 18.939995159223663, 7.3488465073634615, 22.79086632823168, 30.043384515373994, 21.143776938805544, 28.090970391074922, 26.800047430275082, 29.371461959690393, 22.351018264934268, 9.370621935492874, 4.292565835160625, 22.79186314417241, 15.841110855712145, 19.966491471859246, 23.432887506660233, 36.73809342579417, 18.708741993852644, -14.588909517596186, 28.99965088493596, -5.2299065647789185, 7.789018815101604, 2.4831048383041576, 43.39756022251922, 12.75246980296312, 16.69801602346739, -15.530507761036858, 33.77536218129779, 11.436227042336329, 23.674497509561753, -1.979916326804247, 33.73475022193421, 38.08873749465461, 24.49889326786367, 41.136551235545554, 20.142418398011056, 0.355258387037221, -13.492691407556102, 34.85234319058067, 21.326746486500586, 25.046768384061746, -7.572276990367772, 37.513686438071915, 24.11374648305216, 30.468574399535232, 38.1046565433132, 12.69318232584714, 40.17454030948926, 14.453769374027644, 4.742079350362072, 23.65258321391768, 17.88486319992367, 37.80180876978888, 29.46732540194657, 26.196153590081394, 11.738950154159047, 4.4326668501033595, 3.8543444533625575, -7.678633771768727, 29.74205480699905, -0.26748410884017204, 11.008002463631183, 11.059376459959413, 20.39586029671313, 38.61704996407374, 20.70222007310607, 50.971610384281234, 29.616458109691685, 12.556518099755495, -5.038516853601784, -0.421498702770581, 9.477655546837893, 25.543632872388866, 6.487590607446585, 32.66319597769788, 18.68251269576264, 31.32337513549633, 29.55430770377678, 34.33482720613131, 22.09610260682887, 36.420990430967606, 53.78606622648196, 16.87553240968161, -9.3607355382522, 44.082424481269044, -3.204975899821573, 7.834730208895115, 17.20171215299392, 35.637365934987, 24.23193644924108, 19.255621714713858, 13.29893265689008, 69.54179774731665, 51.91067886986028, -5.103455870021598, -6.599794196796353, -4.398539171797882, 33.333533956240245, 33.897453483650025, 29.870526925967987, 33.025211195733455, 19.19521472220825, -5.882488700452058, 20.706427049352452, 19.66446522683948, 6.958600507546327, 15.945448011107967, 27.019905314842283, -1.2235946832850395, 0.22392699239094327, 24.311499348507365, 21.141959295873804, 20.452468318443632, 27.652759467088934, 25.278186221477664, 9.359071582720887, 49.264428536672106, 36.37477620220773, 32.31713684381525, -2.047395739669817, 16.21447833186165, 14.923703748395647, 46.51639910667896, 16.758510938600796, 14.294620792737959, 11.25804463555825, 19.160219019388787, 17.6586738731539, 28.393079487993404, 13.813400114216691, 24.730885770404363, 57.185158116913954, 46.87834830097789, 17.805544628118625, 22.568637193817903, -1.541685804123638, 11.230093392431387, -1.8487124902284684, 34.040627578004624, 30.25942122301356, 14.338285262790981, 13.486190253050165, 1.9765844478747603, 26.00765786479201, 18.6715519528021, 30.82378896443886, -8.09097876627687, 19.271829225459232, 23.16140043285057, -1.3161388971686954, 11.269846716947361, 5.861745585746599, 27.330267375404812, 26.38072627545776, 11.670287856980897, 34.381415689562246, 16.450337096665354, 34.021383228159486, 14.014425075530003, -30.25790835101178, 6.555907830692709, 23.548963333783522, 5.5825148722969935, 31.543567391190724, 28.701485616710016, 23.16109715577592, 37.987947251048155, 10.896183214646978, -0.689508563838082, 16.995608093719092, 15.29517562271936, 15.122942556728583, 34.61909712089053, 54.22492472319869, 19.173056269013422, 15.322695952666649, 26.950267964416092, 19.789027570904324, 12.734956374306076, 26.847084107601408, 39.70352007867962, 17.413866788064585, -2.978648807419823, 9.689387337921954, 14.822044582729667, 21.702041475107112, 54.29981306219322, 29.863799912903335, 19.69822704450064, -19.271785105696743, 27.833718129137942, 12.95170045043296, 15.754712463282186, 2.93812421478583, 5.6174352983325555, -31.21770718172302, 52.89875201276191, 10.235934454092723, 9.778286293159553, 17.55342553449262, 3.8126088343080973, 39.85378354548361, 2.6020810477353002, 34.88505982737486, 17.45113524414919, -3.455777036867751, 18.662420085734805, 12.633179706707793, 35.2145199186783, 45.74721569333481, 16.072655592002768, 7.738978851055215, 19.856827440368832, 21.620157896372664, 45.12208602736365, -8.008919323094478, 3.3239893201598463, 33.30916990922543, 15.35402468135757, 30.12865107077443, 25.68794689282967, 10.867538826562289, 8.826027458335039, 27.56940262640216, 25.04401247851355, 29.912644291516273, 6.457333085010763, -2.993709160468267, 30.143549672234656, 27.130547031834418, 22.51268901162423, 18.006421391319122]\n"
          ]
        }
      ]
    }
  ]
}