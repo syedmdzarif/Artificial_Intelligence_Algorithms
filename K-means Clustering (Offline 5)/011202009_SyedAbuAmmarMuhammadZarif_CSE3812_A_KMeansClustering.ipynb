{
  "nbformat": 4,
  "nbformat_minor": 0,
  "metadata": {
    "colab": {
      "provenance": [],
      "collapsed_sections": []
    },
    "kernelspec": {
      "name": "python3",
      "display_name": "Python 3"
    },
    "language_info": {
      "name": "python"
    }
  },
  "cells": [
    {
      "cell_type": "code",
      "execution_count": null,
      "metadata": {
        "id": "RtB_PSn2SDCI"
      },
      "outputs": [],
      "source": [
        "import numpy as np\n",
        "from numpy import genfromtxt"
      ]
    },
    {
      "cell_type": "code",
      "source": [
        "data_path = 'g_data.csv'\n",
        "my_data = genfromtxt(data_path, delimiter=',')"
      ],
      "metadata": {
        "id": "iJfJA6aZSHZH"
      },
      "execution_count": null,
      "outputs": []
    },
    {
      "cell_type": "code",
      "source": [
        "print(type(my_data))\n",
        "print(my_data.shape)"
      ],
      "metadata": {
        "id": "lf8ds-NoSIu-",
        "colab": {
          "base_uri": "https://localhost:8080/"
        },
        "outputId": "1b24f619-2d5c-4f98-cd05-2b796129edfb"
      },
      "execution_count": null,
      "outputs": [
        {
          "output_type": "stream",
          "name": "stdout",
          "text": [
            "<class 'numpy.ndarray'>\n",
            "(1700, 2)\n"
          ]
        }
      ]
    },
    {
      "cell_type": "code",
      "source": [
        "import matplotlib.pyplot as plt \n",
        "\n",
        "plt.scatter(my_data[:,0], my_data[:,1])"
      ],
      "metadata": {
        "id": "ukoVqERMSKHt",
        "colab": {
          "base_uri": "https://localhost:8080/",
          "height": 282
        },
        "outputId": "c6802aa8-1684-4e8e-cf5a-852f03be494f"
      },
      "execution_count": null,
      "outputs": [
        {
          "output_type": "execute_result",
          "data": {
            "text/plain": [
              "<matplotlib.collections.PathCollection at 0x7f7d84a729d0>"
            ]
          },
          "metadata": {},
          "execution_count": 29
        },
        {
          "output_type": "display_data",
          "data": {
            "text/plain": [
              "<Figure size 432x288 with 1 Axes>"
            ],
            "image/png": "[encoded data removed]"
          },
          "metadata": {
            "needs_background": "light"
          }
        }
      ]
    },
    {
      "cell_type": "code",
      "source": [
        "import matplotlib.pyplot as plt \n",
        "\n",
        "a = [4, 5, 6, 10]\n",
        "b = [100, 200, 500, 600]\n",
        "plt.scatter(a, b)"
      ],
      "metadata": {
        "id": "JTMMmpPfSLzK",
        "colab": {
          "base_uri": "https://localhost:8080/",
          "height": 282
        },
        "outputId": "5ae52190-d220-45ec-ebeb-24905c612eb1"
      },
      "execution_count": null,
      "outputs": [
        {
          "output_type": "execute_result",
          "data": {
            "text/plain": [
              "<matplotlib.collections.PathCollection at 0x7f7d84b26450>"
            ]
          },
          "metadata": {},
          "execution_count": 30
        },
        {
          "output_type": "display_data",
          "data": {
            "text/plain": [
              "<Figure size 432x288 with 1 Axes>"
            ],
            "image/png": "[encoded data removed]"
          },
          "metadata": {
            "needs_background": "light"
          }
        }
      ]
    },
    {
      "cell_type": "code",
      "source": [
        "\n",
        "def eucledean_distance(sample, center):\n",
        "    #distance = abs(center[0]-sample[0]) + abs(center[1]-sample[1])\n",
        "    distance = ((center[0]-sample[0])**2 + (center[1]-sample[1])**2)**0.5\n",
        "    return distance"
      ],
      "metadata": {
        "id": "zxonmahliv4_"
      },
      "execution_count": null,
      "outputs": []
    },
    {
      "cell_type": "code",
      "source": [
        "import matplotlib.pyplot as plt "
      ],
      "metadata": {
        "id": "pE4kg_eAJARE"
      },
      "execution_count": null,
      "outputs": []
    },
    {
      "cell_type": "markdown",
      "source": [
        "K = 2"
      ],
      "metadata": {
        "id": "inzgy21UKoGt"
      }
    },
    {
      "cell_type": "code",
      "source": [
        "import random\n",
        "import copy\n",
        "\n",
        "\n",
        "data = my_data.tolist()\n",
        "inertia_list = []\n",
        "\n",
        "random.seed(11202009)\n",
        "\n",
        "K = 2\n",
        "centers_set = set()     #sets cannot have multiple occurance of the same value\n",
        "while len(centers_set)<K:\n",
        "    num = random.randint(0, len(data))    #randomly generating k centers\n",
        "    centers_set.add(num)\n",
        "centers = []\n",
        "for i in centers_set:\n",
        "    centers.append(data[i])\n",
        "#print(centers)\n",
        "\n",
        "clusters = []\n",
        "for i in range(K):\n",
        "    clusters.append([])   \n",
        "min_dis = 99999999 \n",
        "index = 0   \n",
        "for sample in data:\n",
        "    for i in range(K):\n",
        "        dis = eucledean_distance(sample, centers[i])\n",
        "        if dis < min_dis:\n",
        "            min_dis = dis\n",
        "            index = i\n",
        "    \n",
        "    clusters[index].append(sample)\n",
        "\n",
        "# for i in range(K):\n",
        "#     print(clusters[i])\n",
        "\n",
        "itr = 1\n",
        "shift = 1   #to initially enter the while loop, later shift is changed to 0\n",
        "flag = 0    #to keep track of change\n",
        "while(flag != 1):\n",
        "    # sum_x = 0\n",
        "    # sum_y = 0\n",
        "    for i in range(K):\n",
        "        sum_x = 0\n",
        "        sum_y = 0\n",
        "        if(len(clusters[i]) != 0):\n",
        "            for j in range(len(clusters[i])):\n",
        "                sum_x = sum_x + clusters[i][j][0]\n",
        "                sum_y = sum_y + clusters[i][j][1]\n",
        "\n",
        "            \n",
        "            center_x = sum_x / (len(clusters[i]))  \n",
        "            center_y = sum_y / (len(clusters[i]))\n",
        "\n",
        "            center_updated = [center_x, center_y]\n",
        "\n",
        "            centers[i] = center_updated\n",
        "\n",
        "    if itr > 1 and shift < 50:\n",
        "        break   #convergence\n",
        "\n",
        "    shift = 0\n",
        "\n",
        "    temp_clusters = []\n",
        "    for i in range(K):\n",
        "        temp_clusters.append([])   \n",
        "\n",
        "    min_dis = 99999999 \n",
        "    index = 0   \n",
        "    for sample in data:\n",
        "        for i in range(K):\n",
        "            dis = eucledean_distance(sample, centers[i])\n",
        "            if dis < min_dis:\n",
        "                min_dis = dis\n",
        "                index = i\n",
        "    \n",
        "        temp_clusters[index].append(sample)\n",
        "        \n",
        "        index_clusters = 0\n",
        "        for m in range(K):\n",
        "            for n in range(len(clusters[m])):\n",
        "                if(clusters[m][n] == sample):\n",
        "                      index_clusters = m\n",
        "        \n",
        "        if index_clusters != index:\n",
        "            shift = shift + 1\n",
        "            flag = 0\n",
        "        else:\n",
        "            flag = 1\n",
        "\n",
        "     \n",
        "    clusters = copy.deepcopy(temp_clusters)  \n",
        "    itr = itr + 1\n",
        "    if itr>100:break\n",
        "\n",
        "\n",
        "inertia = 0\n",
        "for i in range(K):\n",
        "    for j in range(len(clusters[i])):\n",
        "        dis = eucledean_distance(clusters[i][j], centers[i])\n",
        "        inertia = inertia + dis\n",
        "\n",
        "print(K, inertia)\n",
        "inertia_list.append(inertia)  \n"
      ],
      "metadata": {
        "id": "hRH5lnm3SN9Y",
        "colab": {
          "base_uri": "https://localhost:8080/"
        },
        "outputId": "fe3328bd-472f-4548-d766-2a0b521723f0"
      },
      "execution_count": null,
      "outputs": [
        {
          "output_type": "stream",
          "name": "stdout",
          "text": [
            "2 61371.56045051292\n"
          ]
        }
      ]
    },
    {
      "cell_type": "code",
      "source": [
        "# i = 0\n",
        "# k = 0\n",
        "# for S in my_data:\n",
        "#     clusters[k].append(i)\n",
        "#     i+=1\n",
        "    \n",
        "#     if i==500:\n",
        "#         k+=1\n",
        "#     elif i==500+400:\n",
        "#         k+=1\n",
        "#     elif i==500+400+350:\n",
        "#         k+=1"
      ],
      "metadata": {
        "id": "zC-QI0nMSQDq"
      },
      "execution_count": null,
      "outputs": []
    },
    {
      "cell_type": "code",
      "source": [
        "#import matplotlib.pyplot as plt "
      ],
      "metadata": {
        "id": "YWYigvVcSSz4"
      },
      "execution_count": null,
      "outputs": []
    },
    {
      "cell_type": "code",
      "source": [
        "#len(clusters)"
      ],
      "metadata": {
        "id": "Lm1l4rqKSVdz"
      },
      "execution_count": null,
      "outputs": []
    },
    {
      "cell_type": "code",
      "source": [
        "# colors = ['m', 'r', 'g', 'b', 'c', 'k', 'y']\n",
        "# for k in range(K):\n",
        "#     x, y = [], []\n",
        "#     for i in clusters[k]:\n",
        "#         x.append(my_data[i][0])\n",
        "#         y.append(my_data[i][1])\n",
        "#     plt.scatter(x, y, c=colors[k], label=\"Cluster \"+str(k))\n",
        "# plt.xlabel(\"x\")\n",
        "# plt.ylabel(\"y\")\n",
        "# plt.legend(loc='lower left')\n",
        "# plt.show()\n",
        "\n",
        "\n",
        "\n",
        "#print(len(clusters))\n",
        "\n",
        "colors = ['m', 'r', 'g', 'b', 'c', 'k', 'y']\n",
        "for k in range(K):\n",
        "    x = []\n",
        "    y = []\n",
        "    for i in range(len(clusters[k])):\n",
        "        x.append(clusters[k][i][0])\n",
        "        y.append(clusters[k][i][1])\n",
        "    plt.scatter(x, y, c=colors[k], label=\"Cluster \"+str(k))\n",
        "plt.xlabel(\"x\")\n",
        "plt.ylabel(\"y\")\n",
        "plt.legend(loc='lower left')\n",
        "plt.show()"
      ],
      "metadata": {
        "id": "jzVCIWDYSYUA",
        "colab": {
          "base_uri": "https://localhost:8080/",
          "height": 279
        },
        "outputId": "b7d86ff7-6238-4c0d-de62-82e667b17222"
      },
      "execution_count": null,
      "outputs": [
        {
          "output_type": "display_data",
          "data": {
            "text/plain": [
              "<Figure size 432x288 with 1 Axes>"
            ],
            "image/png": "[encoded data removed]"
          },
          "metadata": {
            "needs_background": "light"
          }
        }
      ]
    },
    {
      "cell_type": "markdown",
      "source": [
        "K = 4"
      ],
      "metadata": {
        "id": "d53v0kXzKNKg"
      }
    },
    {
      "cell_type": "code",
      "source": [
        "K = 4\n",
        "centers = []\n",
        "for k in range(K):\n",
        "    num = random.randint(0, len(data))    #randomly generating k centers\n",
        "    centers.append(data[num])\n",
        "#print(centers)\n",
        "\n",
        "clusters = []\n",
        "for i in range(K):\n",
        "    clusters.append([])   \n",
        "min_dis = 99999999 \n",
        "index = 0   \n",
        "for sample in data:\n",
        "    for i in range(K):\n",
        "        dis = eucledean_distance(sample, centers[i])\n",
        "        if dis < min_dis:\n",
        "            min_dis = dis\n",
        "            index = i\n",
        "    \n",
        "    clusters[index].append(sample)\n",
        "\n",
        "# for i in range(K):\n",
        "#     print(clusters[i])\n",
        "\n",
        "itr = 1\n",
        "shift = 1   #to initially enter the while loop, later shift is changed to 0\n",
        "flag = 0\n",
        "while(flag != 1):\n",
        "    \n",
        "    for i in range(K):\n",
        "        sum_x = 0\n",
        "        sum_y = 0\n",
        "        if(len(clusters[i]) != 0):\n",
        "            for j in range(len(clusters[i])):\n",
        "                sum_x = sum_x + clusters[i][j][0]\n",
        "                sum_y = sum_y + clusters[i][j][1]\n",
        "\n",
        "            \n",
        "            center_x = sum_x / (len(clusters[i]))  \n",
        "            center_y = sum_y / (len(clusters[i]))\n",
        "\n",
        "            center_updated = [center_x, center_y]\n",
        "\n",
        "            centers[i] = center_updated\n",
        "\n",
        "    if itr > 1 and shift < 50:\n",
        "        break   #convergence\n",
        "\n",
        "    shift = 0\n",
        "\n",
        "    temp_clusters = []\n",
        "    for i in range(K):\n",
        "        temp_clusters.append([])   \n",
        "\n",
        "    min_dis = 99999999 \n",
        "    index = 0   \n",
        "    for sample in data:\n",
        "        for i in range(K):\n",
        "            dis = eucledean_distance(sample, centers[i])\n",
        "            if dis < min_dis:\n",
        "                min_dis = dis\n",
        "                index = i\n",
        "    \n",
        "        temp_clusters[index].append(sample)\n",
        "        \n",
        "        index_clusters = 0\n",
        "        for m in range(K):\n",
        "            for n in range(len(clusters[m])):\n",
        "                if(clusters[m][n] == sample):\n",
        "                    index_clusters = m\n",
        "        \n",
        "        if index_clusters != index:\n",
        "            shift = shift + 1\n",
        "            flag = 0\n",
        "        else:\n",
        "            flag = 1\n",
        "\n",
        "        \n",
        "\n",
        "     \n",
        "    clusters = copy.deepcopy(temp_clusters)  \n",
        "    itr = itr + 1\n",
        "    if(itr > 100): break\n",
        "\n",
        "\n",
        "inertia = 0\n",
        "for i in range(K):\n",
        "    for j in range(len(clusters[i])):\n",
        "        dis = eucledean_distance(clusters[i][j], centers[i])\n",
        "        inertia = inertia + dis\n",
        "\n",
        "print(K, inertia)\n",
        "inertia_list.append(inertia)  "
      ],
      "metadata": {
        "id": "MAoR5HnwKLQA",
        "colab": {
          "base_uri": "https://localhost:8080/"
        },
        "outputId": "e85c790f-d578-459a-fcf6-d50cbb67a43c"
      },
      "execution_count": null,
      "outputs": [
        {
          "output_type": "stream",
          "name": "stdout",
          "text": [
            "4 78933.39183898819\n"
          ]
        }
      ]
    },
    {
      "cell_type": "code",
      "source": [
        "#print(len(clusters))\n",
        "\n",
        "colors = ['m', 'r', 'g', 'b', 'c', 'k', 'y']\n",
        "for k in range(K):\n",
        "    x = []\n",
        "    y = []\n",
        "    for i in range(len(clusters[k])):\n",
        "        x.append(clusters[k][i][0])\n",
        "        y.append(clusters[k][i][1])\n",
        "    plt.scatter(x, y, c=colors[k], label=\"Cluster \"+str(k))\n",
        "plt.xlabel(\"x\")\n",
        "plt.ylabel(\"y\")\n",
        "plt.legend(loc='lower left')\n",
        "plt.show()"
      ],
      "metadata": {
        "colab": {
          "base_uri": "https://localhost:8080/",
          "height": 279
        },
        "id": "7VMds2POKQ-Z",
        "outputId": "4ae62ddd-d370-41ba-85e9-ec8b4f3676fa"
      },
      "execution_count": null,
      "outputs": [
        {
          "output_type": "display_data",
          "data": {
            "text/plain": [
              "<Figure size 432x288 with 1 Axes>"
            ],
            "image/png": "[encoded data removed]"
          },
          "metadata": {
            "needs_background": "light"
          }
        }
      ]
    },
    {
      "cell_type": "markdown",
      "source": [
        "K = 6"
      ],
      "metadata": {
        "id": "sgUPDONkKR-k"
      }
    },
    {
      "cell_type": "code",
      "source": [
        "K = 6\n",
        "centers = []\n",
        "for k in range(K):\n",
        "    num = random.randint(0, len(data))    #randomly generating k centers\n",
        "    centers.append(data[num])\n",
        "#print(centers)\n",
        "\n",
        "clusters = []\n",
        "for i in range(K):\n",
        "    clusters.append([])   \n",
        "min_dis = 99999999 \n",
        "index = 0   \n",
        "for sample in data:\n",
        "    for i in range(K):\n",
        "        dis = eucledean_distance(sample, centers[i])\n",
        "        if dis < min_dis:\n",
        "            min_dis = dis\n",
        "            index = i\n",
        "    \n",
        "    clusters[index].append(sample)\n",
        "\n",
        "# for i in range(K):\n",
        "#     print(clusters[i])\n",
        "\n",
        "itr = 1\n",
        "shift = 1   #to initially enter the while loop, later shift is changed to 0\n",
        "flag = 0\n",
        "while(flag != 1):\n",
        "    \n",
        "    for i in range(K):\n",
        "        sum_x = 0\n",
        "        sum_y = 0\n",
        "        if(len(clusters[i]) != 0):\n",
        "            for j in range(len(clusters[i])):\n",
        "                sum_x = sum_x + clusters[i][j][0]\n",
        "                sum_y = sum_y + clusters[i][j][1]\n",
        "\n",
        "            \n",
        "            center_x = sum_x / (len(clusters[i]))  \n",
        "            center_y = sum_y / (len(clusters[i]))\n",
        "\n",
        "            center_updated = [center_x, center_y]\n",
        "\n",
        "            centers[i] = center_updated\n",
        "\n",
        "    if itr > 1 and shift < 50:\n",
        "        break   #convergence\n",
        "\n",
        "    shift = 0\n",
        "\n",
        "    temp_clusters = []\n",
        "    for i in range(K):\n",
        "        temp_clusters.append([])   \n",
        "\n",
        "    min_dis = 99999999 \n",
        "    index = 0   \n",
        "    for sample in data:\n",
        "        for i in range(K):\n",
        "            dis = eucledean_distance(sample, centers[i])\n",
        "            if dis < min_dis:\n",
        "                min_dis = dis\n",
        "                index = i\n",
        "    \n",
        "        temp_clusters[index].append(sample)\n",
        "        \n",
        "        index_clusters = 0\n",
        "        for m in range(K):\n",
        "            for n in range(len(clusters[m])):\n",
        "                if(clusters[m][n] == sample):\n",
        "                      index_clusters = m\n",
        "        \n",
        "        if index_clusters != index:\n",
        "            shift = shift + 1\n",
        "            flag = 0\n",
        "        else:\n",
        "            flag = 1\n",
        "        \n",
        "\n",
        "     \n",
        "    clusters = copy.deepcopy(temp_clusters)  \n",
        "    itr = itr + 1\n",
        "    if itr>100: break;\n",
        "\n",
        "\n",
        "inertia = 0\n",
        "for i in range(K):\n",
        "    for j in range(len(clusters[i])):\n",
        "        dis = eucledean_distance(clusters[i][j], centers[i])\n",
        "        inertia = inertia + dis\n",
        "\n",
        "print(K, inertia)\n",
        "inertia_list.append(inertia)  "
      ],
      "metadata": {
        "id": "ciPVqUa7KV73",
        "colab": {
          "base_uri": "https://localhost:8080/"
        },
        "outputId": "3107b097-11b6-4e48-c1ec-591fe51876be"
      },
      "execution_count": null,
      "outputs": [
        {
          "output_type": "stream",
          "name": "stdout",
          "text": [
            "6 78856.55490515106\n"
          ]
        }
      ]
    },
    {
      "cell_type": "code",
      "source": [
        "#print(len(clusters))\n",
        "\n",
        "colors = ['m', 'r', 'g', 'b', 'c', 'k', 'y']\n",
        "for k in range(K):\n",
        "    x = []\n",
        "    y = []\n",
        "    for i in range(len(clusters[k])):\n",
        "        x.append(clusters[k][i][0])\n",
        "        y.append(clusters[k][i][1])\n",
        "    plt.scatter(x, y, c=colors[k], label=\"Cluster \"+str(k))\n",
        "plt.xlabel(\"x\")\n",
        "plt.ylabel(\"y\")\n",
        "plt.legend(loc='lower left')\n",
        "plt.show()"
      ],
      "metadata": {
        "colab": {
          "base_uri": "https://localhost:8080/",
          "height": 279
        },
        "id": "hRf-wqREKZGX",
        "outputId": "c3fe33da-d9da-4a1c-b1fe-b5cf25201249"
      },
      "execution_count": null,
      "outputs": [
        {
          "output_type": "display_data",
          "data": {
            "text/plain": [
              "<Figure size 432x288 with 1 Axes>"
            ],
            "image/png": "[encoded data removed]"
          },
          "metadata": {
            "needs_background": "light"
          }
        }
      ]
    },
    {
      "cell_type": "markdown",
      "source": [
        "K = 7"
      ],
      "metadata": {
        "id": "VOqRpxwaKeb2"
      }
    },
    {
      "cell_type": "code",
      "source": [
        "K = 7\n",
        "centers = []\n",
        "for k in range(K):\n",
        "    num = random.randint(0, len(data))    #randomly generating k centers\n",
        "    centers.append(data[num])\n",
        "#print(centers)\n",
        "\n",
        "clusters = []\n",
        "for i in range(K):\n",
        "    clusters.append([])   \n",
        "min_dis = 99999999 \n",
        "index = 0   \n",
        "for sample in data:\n",
        "    for i in range(K):\n",
        "        dis = eucledean_distance(sample, centers[i])\n",
        "        if dis < min_dis:\n",
        "            min_dis = dis\n",
        "            index = i\n",
        "    \n",
        "    clusters[index].append(sample)\n",
        "\n",
        "# for i in range(K):\n",
        "#     print(clusters[i])\n",
        "\n",
        "itr = 1\n",
        "shift = 1   #to initially enter the while loop, later shift is changed to 0\n",
        "flag = 0\n",
        "while(flag != 1):\n",
        "  \n",
        "    for i in range(K):\n",
        "        sum_x = 0\n",
        "        sum_y = 0\n",
        "        if(len(clusters[i]) != 0):\n",
        "            for j in range(len(clusters[i])):\n",
        "                sum_x = sum_x + clusters[i][j][0]\n",
        "                sum_y = sum_y + clusters[i][j][1]\n",
        "\n",
        "            \n",
        "            center_x = sum_x / (len(clusters[i]))  \n",
        "            center_y = sum_y / (len(clusters[i]))\n",
        "\n",
        "            center_updated = [center_x, center_y]\n",
        "\n",
        "            centers[i] = center_updated\n",
        "\n",
        "    if itr > 1 and shift < 50:\n",
        "        break   #convergence\n",
        "\n",
        "    shift = 0\n",
        "\n",
        "    temp_clusters = []\n",
        "    for i in range(K):\n",
        "        temp_clusters.append([])   \n",
        "\n",
        "    min_dis = 99999999 \n",
        "    index = 0   \n",
        "    for sample in data:\n",
        "        for i in range(K):\n",
        "            dis = eucledean_distance(sample, centers[i])\n",
        "            if dis < min_dis:\n",
        "                min_dis = dis\n",
        "                index = i\n",
        "    \n",
        "        temp_clusters[index].append(sample)\n",
        "        \n",
        "        index_clusters = 0\n",
        "        for m in range(K):\n",
        "            for n in range(len(clusters[m])):\n",
        "                if(clusters[m][n] == sample):\n",
        "                      index_clusters = m\n",
        "        \n",
        "        if index_clusters != index:\n",
        "            shift = shift + 1\n",
        "            flag = 0\n",
        "        else:\n",
        "            flag = 1\n",
        "\n",
        "     \n",
        "    clusters = copy.deepcopy(temp_clusters)  \n",
        "    itr = itr + 1\n",
        "    if itr>100: break;\n",
        "\n",
        "\n",
        "inertia = 0\n",
        "for i in range(K):\n",
        "    for j in range(len(clusters[i])):\n",
        "        dis = eucledean_distance(clusters[i][j], centers[i])\n",
        "        inertia = inertia + dis\n",
        "\n",
        "print(K, inertia)\n",
        "inertia_list.append(inertia)  "
      ],
      "metadata": {
        "colab": {
          "base_uri": "https://localhost:8080/"
        },
        "id": "X-uk9P3yKdSM",
        "outputId": "a003b4a2-9000-420c-c9c6-aed362fe35bd"
      },
      "execution_count": null,
      "outputs": [
        {
          "output_type": "stream",
          "name": "stdout",
          "text": [
            "7 106653.11113302816\n"
          ]
        }
      ]
    },
    {
      "cell_type": "code",
      "source": [
        "#print(len(clusters))\n",
        "\n",
        "colors = ['m', 'r', 'g', 'b', 'c', 'k', 'y']\n",
        "for k in range(K):\n",
        "    x = []\n",
        "    y = []\n",
        "    for i in range(len(clusters[k])):\n",
        "        x.append(clusters[k][i][0])\n",
        "        y.append(clusters[k][i][1])\n",
        "    plt.scatter(x, y, c=colors[k], label=\"Cluster \"+str(k))\n",
        "plt.xlabel(\"x\")\n",
        "plt.ylabel(\"y\")\n",
        "plt.legend(loc='lower left')\n",
        "plt.show()"
      ],
      "metadata": {
        "colab": {
          "base_uri": "https://localhost:8080/",
          "height": 279
        },
        "id": "nXulWjg1Ki0l",
        "outputId": "5be4aee0-ea4f-4936-e245-cdc0335e52ff"
      },
      "execution_count": null,
      "outputs": [
        {
          "output_type": "display_data",
          "data": {
            "text/plain": [
              "<Figure size 432x288 with 1 Axes>"
            ],
            "image/png": "[encoded data removed]"
          },
          "metadata": {
            "needs_background": "light"
          }
        }
      ]
    },
    {
      "cell_type": "code",
      "source": [
        "# import pandas as pd\n",
        "# from sklearn.cluster import KMeans"
      ],
      "metadata": {
        "id": "OloRM2jtSatT"
      },
      "execution_count": null,
      "outputs": []
    },
    {
      "cell_type": "code",
      "source": [
        "# km = KMeans(n_clusters=2, init='random')\n",
        "# km.fit(my_data)"
      ],
      "metadata": {
        "colab": {
          "base_uri": "https://localhost:8080/"
        },
        "id": "tJwwBmH5SdOh",
        "outputId": "dd98d0aa-ae61-40ad-f3eb-5fff7871596f"
      },
      "execution_count": null,
      "outputs": [
        {
          "output_type": "execute_result",
          "data": {
            "text/plain": [
              "KMeans(init='random', n_clusters=2)"
            ]
          },
          "metadata": {},
          "execution_count": 13
        }
      ]
    },
    {
      "cell_type": "code",
      "source": [
        "# prediction = km.predict(my_data)"
      ],
      "metadata": {
        "id": "kCAv7XHrSfOw"
      },
      "execution_count": null,
      "outputs": []
    },
    {
      "cell_type": "code",
      "source": [
        "# prediction"
      ],
      "metadata": {
        "colab": {
          "base_uri": "https://localhost:8080/"
        },
        "id": "AZwFgOgUSlf4",
        "outputId": "1230dd53-d3f3-47ec-8fb0-867978a3d2d9"
      },
      "execution_count": null,
      "outputs": [
        {
          "output_type": "execute_result",
          "data": {
            "text/plain": [
              "array([0, 0, 0, ..., 0, 0, 0], dtype=int32)"
            ]
          },
          "metadata": {},
          "execution_count": 15
        }
      ]
    },
    {
      "cell_type": "code",
      "source": [
        "# train_plot = pd.DataFrame(my_data)\n",
        "# train_plot['cluster_index'] = pd.Series(prediction)\n",
        "# train_plot.plot.scatter(x=0, y=1, c='cluster_index', colormap='jet')"
      ],
      "metadata": {
        "id": "6rx1O9HLSouL"
      },
      "execution_count": null,
      "outputs": []
    },
    {
      "cell_type": "code",
      "source": [
        "# import matplotlib.pyplot as plt\n",
        "# cost = []\n",
        "\n",
        "# K = range(1,10)\n",
        "# for k in K:\n",
        "#     kmeanModel = KMeans(n_clusters=k)\n",
        "#     kmeanModel.fit(my_data)\n",
        "#     cost.append(kmeanModel.inertia_)\n",
        "\n",
        "# print(cost)\n",
        "# plt.plot(K, cost)\n",
        "# plt.title('The Elbow Method')\n",
        "# plt.show()"
      ],
      "metadata": {
        "colab": {
          "base_uri": "https://localhost:8080/",
          "height": 298
        },
        "id": "nbXVOS8ASq-S",
        "outputId": "54c8fcf8-4579-4cc6-b94f-65ffd5289b28"
      },
      "execution_count": null,
      "outputs": [
        {
          "output_type": "stream",
          "name": "stdout",
          "text": [
            "[4881827.715322591, 1860828.3048688164, 905422.1829371476, 411576.1696791684, 344808.7680396233, 287558.6770434811, 235340.54228102154, 211348.4782941885, 190839.36656125291]\n"
          ]
        },
        {
          "output_type": "display_data",
          "data": {
            "text/plain": [
              "<Figure size 432x288 with 1 Axes>"
            ],
            "image/png": "[encoded data removed]"
          },
          "metadata": {
            "needs_background": "light"
          }
        }
      ]
    },
    {
      "cell_type": "markdown",
      "source": [
        "Rough (Not part of the algorithm)"
      ],
      "metadata": {
        "id": "_zX9cjtEe4jr"
      }
    },
    {
      "cell_type": "code",
      "source": [
        "# import random\n",
        "# for i in range(4):\n",
        "#     num = random.randint(0,100)\n",
        "#     print(num)\n",
        "\n",
        "\n",
        "# import random\n",
        "# data = my_data.tolist()\n",
        "\n",
        "# K = 4\n",
        "# centers = []\n",
        "# for k in range(K):\n",
        "#     num = random.randint(0, len(data))    #randomly generating k centers\n",
        "#     centers.append(data[num])\n",
        "# #print(centers)\n",
        "\n",
        "# clusters = [[]]\n",
        "# for i in range(K):\n",
        "#     clusters.append([])\n",
        "# #min_dis = 99999999    \n",
        "# index = 0\n",
        "# distance = []\n",
        "# for sample in data:\n",
        "#     for i in range(K):\n",
        "#         dis = eucledean_distance(sample, centers[i])\n",
        "#         distance.append(dis)\n",
        "    \n",
        "#     min_dis = distance[0]\n",
        "#     for i in range(len(distance)):\n",
        "#         if distance[0] < min_dis:\n",
        "#             min_dis = distance[0]\n",
        "#             index = i\n",
        "\n",
        "#     clusters[index].append(sample)\n",
        "\n",
        "# for i in range(4):\n",
        "#     print(clusters[i])\n",
        "\n",
        "\n",
        "\n",
        "# import copy\n",
        "# a = [[2, 3, 4], 5]\n",
        "# b = [2,3,4]\n",
        "\n",
        "# b = copy.deepcopy(a)\n",
        "\n",
        "# print(b)\n",
        "# x = []\n",
        "# y = []\n",
        "\n",
        "# for i in range(len(data)):\n",
        "#     x.append(data[i][0])\n",
        "\n",
        "# print(x)\n",
        "\n",
        "# K = 2\n",
        "# centerss = set()\n",
        "# while len(centerss)<K:\n",
        "#     num = random.randint(0, len(data))    #randomly generating k centers\n",
        "#     centerss.add(num)\n",
        "# centers = []\n",
        "# for i in centerss:\n",
        "#     centers.append(data[i])\n",
        "# print(centers)"
      ],
      "metadata": {
        "colab": {
          "base_uri": "https://localhost:8080/"
        },
        "id": "A4mPphWzesjW",
        "outputId": "b6876814-b8dd-43a0-f813-08aaec0b099d"
      },
      "execution_count": null,
      "outputs": [
        {
          "output_type": "stream",
          "name": "stdout",
          "text": [
            "[[14.717230562767552, -45.99321386591052], [-24.730063537149885, 13.560106385505243]]\n"
          ]
        }
      ]
    }
  ]
}