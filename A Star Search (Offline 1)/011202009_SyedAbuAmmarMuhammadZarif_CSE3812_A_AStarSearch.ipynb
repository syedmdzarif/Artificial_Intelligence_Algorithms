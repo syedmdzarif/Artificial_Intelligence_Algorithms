{
  "nbformat": 4,
  "nbformat_minor": 0,
  "metadata": {
    "colab": {
      "name": "A Star Search.ipynb",
      "provenance": [],
      "collapsed_sections": []
    },
    "kernelspec": {
      "name": "python3",
      "display_name": "Python 3"
    },
    "language_info": {
      "name": "python"
    }
  },
  "cells": [
    {
      "cell_type": "code",
      "execution_count": 1,
      "metadata": {
        "id": "b-KG7c-f4LT-"
      },
      "outputs": [],
      "source": [
        "import math\n",
        "from queue import PriorityQueue"
      ]
    },
    {
      "cell_type": "code",
      "source": [
        "heuristic_list = {}\n",
        "\n",
        "def heuristic(nid, x1, y1, x2, y2):\n",
        "    distance = (((x1-x2)**2) + ((y1-y2)**2))**0.5\n",
        "    heuristic_list[nid].append(distance)\n",
        "\n",
        "\n",
        "\n",
        "coords = {} # node id is the key\n",
        "adjlist = {} # node id is the key\n",
        "\n",
        "\n",
        "with open('input.txt','r') as f:\n",
        "    V = int(f.readline())\n",
        "    for i in range(V):\n",
        "        strs = f.readline().split()\n",
        "        nid, x, y = strs[0], int(strs[1]), int(strs[2])\n",
        "        coords[nid] = (x, y) # x, y kept as a tuple \n",
        "        adjlist[nid] = [] #create empty list for each node's adjnodes\n",
        "        heuristic_list[nid] = []  #to create empty list for keeping track of heuristics\n",
        "\n",
        "    E = int(f.readline())\n",
        "    for i in range(E):\n",
        "        strs = f.readline().split()\n",
        "        n1, n2, c = strs[0], strs[1], int(strs[2])\n",
        "        adjlist[n1].append((n2, c)) # (n2, c) tuple\n",
        "    startnid = f.readline().rstrip()\n",
        "    goalnid = f.readline().rstrip()\n",
        "\n",
        "print('graph')\n",
        "for nid in adjlist:\n",
        "    print(nid, coords[nid], '--->',  adjlist[nid])\n",
        "    for tup in adjlist[nid]:\n",
        "        print('\\t', tup[0], tup[1])\n",
        "print('start', startnid, 'goal', goalnid)\n",
        "\n",
        "\n",
        "\n",
        "for nid in coords:\n",
        "    #for tup in coords[nid]:\n",
        "    #    x1 = tup[0]\n",
        "    #    y1 = tup[1]\n",
        "    x1 = coords[nid][0]\n",
        "    y1 = coords[nid][1]\n",
        "    #for tupGoal in coords[goalnid]:\n",
        "    #    x2 = tupGoal[0]\n",
        "    #    y2 = tupGoal[1]\n",
        "    x2 = coords[goalnid][0]\n",
        "    y2 = coords[goalnid][1]\n",
        "\n",
        "    heuristic(nid, x1, y1, x2, y2)\n",
        "\n",
        "\n",
        "\n",
        "#for nid in heuristic_list:\n",
        "#    print(nid, heuristic_list[nid])\n",
        "\n",
        "#print(heuristic_list['G'][0])\n"
      ],
      "metadata": {
        "colab": {
          "base_uri": "https://localhost:8080/"
        },
        "id": "wu2G1yH04jW2",
        "outputId": "268fc25d-938b-4043-9a8d-90c25f1da021"
      },
      "execution_count": 2,
      "outputs": [
        {
          "output_type": "stream",
          "name": "stdout",
          "text": [
            "graph\n",
            "S (6, 0) ---> [('A', 1), ('C', 2), ('D', 4)]\n",
            "\t A 1\n",
            "\t C 2\n",
            "\t D 4\n",
            "A (6, 0) ---> [('B', 2)]\n",
            "\t B 2\n",
            "B (1, 0) ---> [('A', 2), ('G', 1)]\n",
            "\t A 2\n",
            "\t G 1\n",
            "C (2, 0) ---> [('S', 2), ('G', 4)]\n",
            "\t S 2\n",
            "\t G 4\n",
            "D (1, 0) ---> [('G', 4)]\n",
            "\t G 4\n",
            "G (0, 0) ---> []\n",
            "start S goal G\n"
          ]
        }
      ]
    },
    {
      "cell_type": "code",
      "source": [
        "#def heuristic():\n",
        "    # complete it yourself"
      ],
      "metadata": {
        "id": "np4N1GPT4kVS"
      },
      "execution_count": null,
      "outputs": []
    },
    {
      "cell_type": "code",
      "source": [
        "class States:\n",
        "    def __init__(self, id, g, f, parent):\n",
        "      self.id = id  \n",
        "      self.g = g\n",
        "      self.f = f\n",
        "      #if parent is not None:\n",
        "      self.parent = parent\n",
        "\n",
        "    def __lt__(self, other):\n",
        "        return self.f < other.f\n",
        "\n",
        "    def __eq__(self, other):\n",
        "        return self.f == other.f and self.parent == other.parent\n",
        "          \n",
        "\n",
        "#start = States('S', None, 0, 0+heuristic(start))\n",
        "\n",
        "start = States(startnid, 0, (0+heuristic_list[startnid][0]), None)"
      ],
      "metadata": {
        "id": "CoXNB9Yf4mQg"
      },
      "execution_count": 3,
      "outputs": []
    },
    {
      "cell_type": "code",
      "source": [
        "from queue import PriorityQueue\n",
        "\n",
        "#def edge_cost(node, i):\n",
        "    #node = current_state_node.id\n",
        "    #cost = 0\n",
        "    #while node.id is not startnid:\n",
        "        #node = node.parent\n",
        "        #node_id = node.id\n",
        "        #cost = cost + adjlist[node.id][i][1]\n",
        "      \n",
        "    #return cost\n",
        "\n",
        "q = PriorityQueue()\n",
        "\n",
        "# q.put( (f, state) )\n",
        "#q.put( (4, 5, 'Read') )\n",
        "#q.put( (2, 2, 'Play') )\n",
        "#q.put( (4, 4, 'Write') )\n",
        "#q.put( (4, 6, 'Listen') )\n",
        "#q.put( (1, 1, 'Code') )\n",
        "#q.put( (3, 3, 'Study') )\n",
        "\n",
        "#while not q.empty():\n",
        "    # next_item = q.get()\n",
        "    # print(next_item)\n",
        "    # a, b, c = q.get()\n",
        "    # print(a, b, c)\n",
        "\n",
        "q.put((start.f, start))   #start is an object, start.id is S\n",
        "solution_path = []    #keeps track of the solution path to print in reverse order\n",
        "\n",
        "while not q.empty():\n",
        "    \n",
        "    current_state_f, current_state_node = q.get()\n",
        "    #print(current_state_node.id)\n",
        "    if current_state_node.id == goalnid:\n",
        "        #print(current_state_node.f)\n",
        "        #print soln path\n",
        "        #print cost\n",
        "        node = current_state_node\n",
        "\n",
        "        while node.id is not startnid:\n",
        "            #print(node.id)\n",
        "            solution_path.append(node.id)\n",
        "            node = node.parent\n",
        "        if node.id == startnid:\n",
        "            #print(node.id)\n",
        "            solution_path.append(node.id)\n",
        "            solution_path.reverse()\n",
        "            print(\"Solution path\", end = ' ')\n",
        "            for i in range(len(solution_path)):\n",
        "                if i == (len(solution_path) - 1):\n",
        "                    print(solution_path[i])\n",
        "                else: \n",
        "                    print(solution_path[i], '-', end = ' ')\n",
        "                \n",
        "            print(\"Solution cost\", current_state_node.f)\n",
        "            break\n",
        "\n",
        "  \n",
        "    #for adj_node in adjlist[current_state_node.id]:\n",
        "    for i in range(len(adjlist[current_state_node.id])):\n",
        "        \n",
        "        node, edgecost = adjlist[current_state_node.id][i]\n",
        "        #print(node)\n",
        "        #print(edgecost)\n",
        "        #g = adjlist[current_state_node.id][i][1] + adjlist[current_state_node.parent.id]\n",
        "        #if current_state_node.id is not startnid: \n",
        "            \n",
        "        #g = adjlist[current_state_node.id][i][1] + edge_cost(current_state_node, i)\n",
        "        g = edgecost + current_state_node.g\n",
        "        h = heuristic_list[node][0]\n",
        "        f = g + h\n",
        "        new_state = States(node, g, f, current_state_node)\n",
        "        \n",
        "        #print(f,g,h)\n",
        "        q.put((f, new_state))\n",
        "        #else:\n",
        "            #g = adjlist[current_state_node.id][i][1]\n",
        "\n",
        "\n",
        "\n"
      ],
      "metadata": {
        "id": "lEmmaXUt4off",
        "colab": {
          "base_uri": "https://localhost:8080/"
        },
        "outputId": "47742a55-afd2-4f7f-9796-1d0a15eb4017"
      },
      "execution_count": 4,
      "outputs": [
        {
          "output_type": "stream",
          "name": "stdout",
          "text": [
            "Solution path S - C - G\n",
            "Solution cost 6.0\n"
          ]
        }
      ]
    },
    {
      "cell_type": "markdown",
      "source": [
        "Rough (Not part of A* algorithm)"
      ],
      "metadata": {
        "id": "aqLlvaD2ufUm"
      }
    },
    {
      "cell_type": "code",
      "source": [
        "#dicti = {\n",
        "#        'A' : (3,4),\n",
        "#        'b' : (6 , 6)\n",
        "#      }\n",
        "\n",
        "#for key, values in dicti.items():\n",
        "#    print(key)\n",
        "\n",
        "\n",
        "\n",
        "\n",
        "#q = PriorityQueue()\n",
        "\n",
        "#q.put(('a', 1, 2))\n",
        "#q.put(('b', 5, 6))\n",
        "\n",
        "#x, y, z= q.get()\n",
        "#a = q.get()\n",
        "\n",
        "\n",
        "#print(x)\n",
        "#print(a)\n",
        "\n",
        "\n",
        "#for i in range(len(adjlist['S'])):\n",
        "#  print(adjlist['S'][i][0])\n",
        "\n",
        "\n",
        "\n",
        "#ax = States('a', 1, 2, None)\n",
        "#bx = States('b', 1, 2, ax)\n",
        "#cx = States('c', 1, 2, bx)\n",
        "#dx = States('d', 1, 2, cx)\n",
        "\n",
        "\n",
        "#nd = dx\n",
        "#while nd.id is not ax.id:\n",
        "#    print(nd.id)\n",
        "#    nd = nd.parent\n",
        "\n",
        "#if nd.id == ax.id:\n",
        "#    print(nd.id)\n"
      ],
      "metadata": {
        "id": "PA6btclo8nkj"
      },
      "execution_count": null,
      "outputs": []
    }
  ]
}